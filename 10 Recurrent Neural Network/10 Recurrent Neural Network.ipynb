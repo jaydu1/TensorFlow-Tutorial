{
 "cells": [
  {
   "cell_type": "markdown",
   "metadata": {},
   "source": [
    "# Recurrent Neural Network\n",
    "- Author : *Jinhong Du*\n",
    "\n",
    "- Reference: \n",
    "    \n",
    "    1. https://r2rt.com/recurrent-neural-networks-in-tensorflow-i.html\n",
    "    2. https://medium.com/@erikhallstrm/hello-world-rnn-83cd7105b767\n",
    "\n",
    "# Content\n",
    "\n",
    "1. [Import Related Modules and Packages](#Sec1)\n",
    "2. [Hyperparameters](#Sec2)\n",
    "3. [Prepare for data](#Sec3)\n",
    "4. [Build RNN from scratch](#Sec4)\n",
    "    - [Single RNN cell](#Sec4.1)\n",
    "    - [Cross-Entropy Loss](#Sec4.2)\n",
    "    - [Visualization function](#Sec4.3) \n",
    "    - [Training](#Sec4.4)\n",
    "5. [Build RNN from TF modules](#Sec5)"
   ]
  },
  {
   "cell_type": "markdown",
   "metadata": {},
   "source": [
    "## 1. Import Related Modules and Packages<a id='Sec1'></a>"
   ]
  },
  {
   "cell_type": "code",
   "execution_count": 1,
   "metadata": {},
   "outputs": [],
   "source": [
    "import tensorflow as tf\n",
    "tf.enable_eager_execution()\n",
    "tfe = tf.contrib.eager\n",
    "\n",
    "import numpy as np\n",
    "import matplotlib.pyplot as plt"
   ]
  },
  {
   "cell_type": "markdown",
   "metadata": {},
   "source": [
    "## 2. Hyperparameters<a id='Sec2'></a>"
   ]
  },
  {
   "cell_type": "code",
   "execution_count": 64,
   "metadata": {},
   "outputs": [],
   "source": [
    "NUM_EPOCH = 10\n",
    "TOTAO_SERIES_LENGTH = 50000\n",
    "TRUNCATED_BACKPROP_LENGTH = 15\n",
    "state_size = 4\n",
    "NUM_CLASS = 2\n",
    "ECHO_STEP = 3\n",
    "BATCH_SIZE = 5\n",
    "NUM_BATCH = TOTAO_SERIES_LENGTH//BATCH_SIZE//TRUNCATED_BACKPROP_LENGTH\n",
    "LERNING_RATE = 0.2"
   ]
  },
  {
   "cell_type": "markdown",
   "metadata": {},
   "source": [
    "## 3. Prepare for data<a id='Sec3'></a>"
   ]
  },
  {
   "cell_type": "code",
   "execution_count": 3,
   "metadata": {},
   "outputs": [],
   "source": [
    "def generateData(total_series_length = TOTAO_SERIES_LENGTH, echo_step = ECHO_STEP, batch_size = BATCH_SIZE):\n",
    "    x = np.array(np.random.choice(2, total_series_length, p=[0.5, 0.5]), dtype=np.int32)\n",
    "    y = np.roll(x, echo_step)\n",
    "    y[0:echo_step] = 0\n",
    "\n",
    "    x = x.reshape((batch_size, -1))  # The first index changing slowest, subseries as rows\n",
    "    y = y.reshape((batch_size, -1))\n",
    "\n",
    "    return (x, y)"
   ]
  },
  {
   "cell_type": "markdown",
   "metadata": {},
   "source": [
    "## 4. Build RNN from scratch<a id='Sec4'></a>"
   ]
  },
  {
   "cell_type": "markdown",
   "metadata": {},
   "source": [
    "## 4.1 Single RNN cell<a id='Sec4.1'></a>"
   ]
  },
  {
   "cell_type": "code",
   "execution_count": 61,
   "metadata": {},
   "outputs": [],
   "source": [
    "class BasicRNNCell(object):\n",
    "    def __init__(self, input_size, state_size, output_size, init_state):\n",
    "        # 定义输入层与隐含层间的参数并随机初始化\n",
    "        self.W = tfe.Variable(np.random.rand(input_size+state_size, state_size), dtype=tf.float32)\n",
    "        self.b = tfe.Variable(np.zeros((1, state_size)), dtype=tf.float32)\n",
    "        \n",
    "        self.W2 = tfe.Variable(np.random.rand(state_size, output_size),dtype=tf.float32)\n",
    "        self.b2 = tfe.Variable(np.zeros((1, output_size)), dtype=tf.float32)\n",
    "        \n",
    "        self.state = init_state\n",
    "        \n",
    "    def __call__(self, x):\n",
    "        '''\n",
    "        Input:\n",
    "            x - list of tensor with shape [BATCH_SIZE, ] and length TIME_STEP\n",
    "        '''\n",
    "            \n",
    "        batch_size = tf.shape(x[0])[0]\n",
    "        \n",
    "        states_series = []\n",
    "        for current_input in x:\n",
    "            current_input = tf.reshape(current_input, [batch_size, 1])\n",
    "            input_and_state_concatenated = tf.concat([current_input, self.state], 1)  # Increasing number of columns\n",
    "\n",
    "            next_state = tf.tanh(tf.matmul(input_and_state_concatenated, self.W) + self.b)  # Broadcasted addition\n",
    "            states_series.append(next_state)\n",
    "            self.state = next_state\n",
    "        logits_series = tf.stack([tf.matmul(state, self.W2) + self.b2 for state in states_series]) #Broadcasted addition\n",
    "        predictions_series = tf.nn.softmax(logits_series)\n",
    "        return predictions_series"
   ]
  },
  {
   "cell_type": "markdown",
   "metadata": {},
   "source": [
    "## 4.2 Cross-Entropy Loss<a id='Sec4.2'></a>"
   ]
  },
  {
   "cell_type": "code",
   "execution_count": 4,
   "metadata": {},
   "outputs": [],
   "source": [
    "def Loss(y_pred, y_true):\n",
    "    '''\n",
    "    Input:\n",
    "        y_pred - [BATCH_SIZE * STEP_ZIE, NUM_CLASS]\n",
    "        y      - [BATCH_SIZE * STEP_ZIE, NUM_CLASS]\n",
    "    '''\n",
    "    eps = 1e-6\n",
    "    cliped_y_pref_tf = tf.clip_by_value(y_pred, eps, 1-eps)\n",
    "    losses = tf.reduce_mean(-tf.reduce_sum(y_true * tf.log(cliped_y_pref_tf), axis=1))\n",
    "    # losses = tf.losses.sparse_softmax_cross_entropy(y, y_logits)\n",
    "    return losses"
   ]
  },
  {
   "cell_type": "markdown",
   "metadata": {},
   "source": [
    "## 4.3 Accuracy<a id='Sec4.3'></a>"
   ]
  },
  {
   "cell_type": "code",
   "execution_count": 5,
   "metadata": {},
   "outputs": [],
   "source": [
    "def Accuracy(y_pred, y_true):\n",
    "    '''\n",
    "    Input:\n",
    "        y_pred - [BATCH_SIZE * STEP_ZIE, NUM_CLASS]\n",
    "        y      - [BATCH_SIZE * STEP_ZIE, NUM_CLASS]\n",
    "    '''\n",
    "    accuracy = tf.reduce_mean(tf.cast(tf.equal(tf.argmax(y_true,1), tf.argmax(y_pred,1)),tf.float32))\n",
    "    return accuracy"
   ]
  },
  {
   "cell_type": "markdown",
   "metadata": {},
   "source": [
    "## 4.4 Visualization function<a id='Sec4.4'></a>"
   ]
  },
  {
   "cell_type": "code",
   "execution_count": 6,
   "metadata": {},
   "outputs": [],
   "source": [
    "def plot(loss_list, accuracy_list, predictions_series, batchX, batchY):\n",
    "    plt.figure(figsize=(12,8))\n",
    "    ax = plt.subplot(2, 3, 1)\n",
    "    plt.cla()\n",
    "    plt.plot(loss_list)\n",
    "    ax.set_title('Loss')\n",
    "    \n",
    "    ax = plt.subplot(2, 3, 2)\n",
    "    plt.cla()\n",
    "    plt.plot(accuracy_list, 'r')\n",
    "    ax.set_title('Accuracy')\n",
    "    \n",
    "    for batch_series_idx in range(4):\n",
    "        one_hot_output_series = np.array(predictions_series)[:, batch_series_idx, :]\n",
    "        single_output_series = np.array([(1 if out[0] < 0.5 else 0) for out in one_hot_output_series])\n",
    "\n",
    "        ax = plt.subplot(2, 3, batch_series_idx + 3)\n",
    "        plt.cla()\n",
    "        plt.axis([0, TRUNCATED_BACKPROP_LENGTH, 0, 2])\n",
    "        left_offset = range(TRUNCATED_BACKPROP_LENGTH)\n",
    "        plt.bar(left_offset, batchX[batch_series_idx, :], width=1, color=\"blue\")\n",
    "        plt.bar(left_offset, batchY[batch_series_idx, :] * 0.5, width=1, color=\"red\")\n",
    "        plt.bar(left_offset, single_output_series * 0.3, width=1, color=\"green\")\n",
    "        if batch_series_idx!=1:\n",
    "            plt.yticks([])\n",
    "        if batch_series_idx<1:\n",
    "            plt.xticks([])\n",
    "        ax.set_title('Batch %d'%(batch_series_idx+1))\n",
    "    plt.draw()\n",
    "    plt.pause(0.0001)"
   ]
  },
  {
   "cell_type": "markdown",
   "metadata": {},
   "source": [
    "## 4.4 Training<a id='Sec4.4'></a>"
   ]
  },
  {
   "cell_type": "code",
   "execution_count": null,
   "metadata": {},
   "outputs": [],
   "source": [
    "init_state = np.zeros((BATCH_SIZE, state_size), dtype=np.float32)\n",
    "model = BasicRNNCell(1, state_size, NUM_CLASS, init_state)\n",
    "\n",
    "\n",
    "for epoch_idx in range(NUM_EPOCH):\n",
    "    x,y = generateData()\n",
    "    model.state = np.zeros((BATCH_SIZE, state_size))\n",
    "\n",
    "    #print(\"New data, epoch\", epoch_idx)\n",
    "    loss_list = []\n",
    "    accuracy_list = []\n",
    "    for batch_idx in range(NUM_BATCH):\n",
    "        with tf.GradientTape() as t:\n",
    "            start_idx = batch_idx * TRUNCATED_BACKPROP_LENGTH\n",
    "            end_idx = start_idx + TRUNCATED_BACKPROP_LENGTH\n",
    "\n",
    "            batchX = x[:,start_idx:end_idx]\n",
    "            batchY = y[:,start_idx:end_idx]\n",
    "\n",
    "            # Unpack columns\n",
    "            inputs_series = tf.unstack(tf.cast(batchX, tf.float32), axis=1)\n",
    "            labels_series = tf.unstack(batchY, axis=1)\n",
    "\n",
    "            # Forward pass\n",
    "            y_pred = model(inputs_series)\n",
    "            stack_y_pred = tf.reshape(y_pred, (-1,2))\n",
    "            stack_y = tf.reshape(tf.one_hot(tf.stack(labels_series), NUM_CLASS), (-1,2))\n",
    "            losses = Loss(stack_y_pred, stack_y)\n",
    "            accuracy = Accuracy(stack_y_pred, stack_y)\n",
    "        dW, db, dW2, db2 = t.gradient(losses, [model.W, model.b, model.W2, model.b2])\n",
    "        print(dW,db,dW2,db2)\n",
    "        model.W.assign_sub(LERNING_RATE * dW)\n",
    "        model.b.assign_sub(LERNING_RATE * db)\n",
    "        model.W2.assign_sub(LERNING_RATE * dW2)\n",
    "        model.b2.assign_sub(LERNING_RATE * db2)        \n",
    "\n",
    "        loss_list.append(losses)\n",
    "        accuracy_list.append(accuracy)\n",
    "    print('Epoch %2d: Average Loss %.4f, Average Accuracy %.4f'%(epoch_idx, np.mean(loss_list), np.mean(accuracy_list)))\n",
    "    if (epoch_idx+1)%5==0:\n",
    "        x_test, y_test = generateData(total_series_length=BATCH_SIZE*TRUNCATED_BACKPROP_LENGTH)\n",
    "        y_pred = model(tf.unstack(tf.cast(x_test, tf.float32), axis=1))\n",
    "        plot(loss_list, accuracy_list, y_pred, x_test, y_test)"
   ]
  },
  {
   "cell_type": "markdown",
   "metadata": {},
   "source": [
    "## 5. Build RNN from TF modules<a id='Sec5'></a>"
   ]
  },
  {
   "cell_type": "code",
   "execution_count": 82,
   "metadata": {},
   "outputs": [],
   "source": [
    "class RNN(object):\n",
    "    def __init__(self, input_size, state_size, output_size, init_state):\n",
    "        self.cell = tf.nn.rnn_cell.BasicRNNCell(state_size, activation='tanh', dtype=tf.float32)\n",
    "        self.cell.build((1))\n",
    "        self.cell.variables[0].assign(np.random.rand(input_size + 1, state_size))\n",
    "        self.W2 = tfe.Variable(np.random.rand(state_size, output_size),dtype=tf.float32)\n",
    "        self.b2 = tfe.Variable(np.zeros((1, output_size)), dtype=tf.float32)\n",
    "        \n",
    "        self.state = init_state\n",
    "        \n",
    "    def __call__(self, x):\n",
    "        '''\n",
    "        Input:\n",
    "            x - list of tensor with shape [BATCH_SIZE, ] and length TIME_STEP\n",
    "        '''\n",
    "        batch_size = tf.shape(x[0])[0]\n",
    "        \n",
    "        states_series = []\n",
    "        for current_input in x:\n",
    "            current_input = tf.reshape(current_input, [batch_size, 1])\n",
    "            #input_and_state_concatenated = tf.concat([current_input, self.state], 1)  # Increasing number of columns\n",
    "\n",
    "            Output, next_state = self.cell(current_input, self.state)  # Broadcasted addition\n",
    "            states_series.append(next_state)\n",
    "            self.state = next_state\n",
    "        #states_series, current_state = tf.nn.dynamic_rnn(self.cell, x, initial_state=self.state, dtype=tf.float32, time_major=True)\n",
    "        #self.state = current_state\n",
    "        logits_series = tf.stack([tf.matmul(state, self.W2) + self.b2 for state in states_series]) #Broadcasted addition\n",
    "        predictions_series = tf.nn.softmax(logits_series)\n",
    "        return predictions_series"
   ]
  },
  {
   "cell_type": "code",
   "execution_count": 72,
   "metadata": {},
   "outputs": [],
   "source": [
    "class RNN(object):\n",
    "    def __init__(self, input_size, state_size, output_size, init_state):\n",
    "        self.cell = tf.nn.rnn_cell.BasicRNNCell(state_size, activation='tanh', dtype=tf.float32)\n",
    "        self.cell.build((1))\n",
    "        self.cell.variables[0].assign(np.random.rand(1 + input_size, state_size))\n",
    "        self.W2 = tfe.Variable(np.random.rand(state_size, output_size),dtype=tf.float32)\n",
    "        self.b2 = tfe.Variable(np.zeros((1, output_size)), dtype=tf.float32)\n",
    "        \n",
    "        self.state = init_state\n",
    "        \n",
    "    def __call__(self, x):\n",
    "        '''\n",
    "        Input:\n",
    "            x - list of tensor with shape [BATCH_SIZE, ] and length TIME_STEP\n",
    "        '''\n",
    "        batch_size = tf.shape(x[0])[0]\n",
    "        states_series = []\n",
    "        for current_input in x:\n",
    "            current_input = tf.reshape(current_input, [batch_size,-1])\n",
    "            state, next_state = self.cell(current_input, self.state)  # Broadcasted addition\n",
    "   \n",
    "            self.state = next_state\n",
    "            states_series.append(state)\n",
    "        #states_series, current_state = tf.nn.dynamic_rnn(self.cell, x, initial_state=self.state, dtype=tf.float32, time_major=True)\n",
    "        #self.state = current_state\n",
    "        logits_series = tf.stack([tf.matmul(state, self.W2) + self.b2 for state in states_series]) #Broadcasted addition\n",
    "        predictions_series = tf.nn.softmax(logits_series)\n",
    "        return predictions_series"
   ]
  },
  {
   "cell_type": "code",
   "execution_count": 83,
   "metadata": {},
   "outputs": [
    {
     "name": "stdout",
     "output_type": "stream",
     "text": [
      "WARNING:tensorflow:<tensorflow.python.ops.rnn_cell_impl.BasicRNNCell object at 0x000002A6FF7627F0>: Note that this cell is not optimized for performance. Please use tf.contrib.cudnn_rnn.CudnnRNNTanh for better performance on GPU.\n",
      "Epoch  0: Average Loss 0.6964, Average Accuracy 0.5005\n",
      "Epoch  1: Average Loss 0.6967, Average Accuracy 0.5024\n",
      "Epoch  2: Average Loss 0.6965, Average Accuracy 0.5028\n",
      "Epoch  3: Average Loss 0.6965, Average Accuracy 0.4999\n",
      "Epoch  4: Average Loss 0.6959, Average Accuracy 0.5032\n"
     ]
    },
    {
     "data": {
      "image/png": "[encoded data removed]",
      "text/plain": [
       "<Figure size 864x576 with 6 Axes>"
      ]
     },
     "metadata": {
      "needs_background": "light"
     },
     "output_type": "display_data"
    },
    {
     "name": "stdout",
     "output_type": "stream",
     "text": [
      "Epoch  5: Average Loss 0.6957, Average Accuracy 0.5058\n",
      "Epoch  6: Average Loss 0.6955, Average Accuracy 0.5062\n",
      "Epoch  7: Average Loss 0.6953, Average Accuracy 0.5051\n",
      "Epoch  8: Average Loss 0.6952, Average Accuracy 0.5026\n",
      "Epoch  9: Average Loss 0.6950, Average Accuracy 0.5035\n"
     ]
    },
    {
     "data": {
      "image/png": "[encoded data removed]",
      "text/plain": [
       "<Figure size 864x576 with 6 Axes>"
      ]
     },
     "metadata": {
      "needs_background": "light"
     },
     "output_type": "display_data"
    }
   ],
   "source": [
    "init_state = np.zeros((BATCH_SIZE, state_size), dtype=np.float32)\n",
    "model = RNN(state_size, state_size, NUM_CLASS, init_state)\n",
    "\n",
    "\n",
    "for epoch_idx in range(NUM_EPOCH):\n",
    "    x,y = generateData()\n",
    "    model.state = np.zeros((BATCH_SIZE, state_size))#model.cell.zero_state(BATCH_SIZE, dtype=tf.float32)\n",
    "    \n",
    "    #print(\"New data, epoch\", epoch_idx)\n",
    "    loss_list = []\n",
    "    accuracy_list = []\n",
    "    for batch_idx in range(NUM_BATCH):\n",
    "        with tf.GradientTape() as t:\n",
    "            start_idx = batch_idx * TRUNCATED_BACKPROP_LENGTH\n",
    "            end_idx = start_idx + TRUNCATED_BACKPROP_LENGTH\n",
    "\n",
    "            batchX = x[:,start_idx:end_idx]\n",
    "            batchY = y[:,start_idx:end_idx]\n",
    "\n",
    "            # Unpack columns\n",
    "            inputs_series = tf.reshape(tf.transpose(batchX.astype(np.float32),(0,1)),(-1,BATCH_SIZE))\n",
    "            labels_series = tf.unstack(batchY, axis=1)\n",
    "\n",
    "            # Forward pass\n",
    "            y_pred = model(inputs_series)\n",
    "            stack_y_pred = tf.reshape(y_pred, (-1,2))\n",
    "            stack_y = tf.reshape(tf.one_hot(tf.stack(labels_series), NUM_CLASS), (-1,2))\n",
    "            losses = Loss(stack_y_pred, stack_y)\n",
    "            accuracy = Accuracy(stack_y_pred, stack_y)\n",
    "\n",
    "        delta = t.gradient(losses, [model.W2, model.b2] + model.cell.variables)\n",
    "        model.W2.assign_sub(LERNING_RATE * delta[0])\n",
    "        model.b2.assign_sub(LERNING_RATE * delta[1])\n",
    "\n",
    "        for i in range(len(model.cell.variables)):\n",
    "            model.cell.variables[i].assign_sub(LERNING_RATE * delta[i+2])\n",
    "        \n",
    "        loss_list.append(losses)\n",
    "        accuracy_list.append(accuracy)\n",
    "    print('Epoch %2d: Average Loss %.4f, Average Accuracy %.4f'%(epoch_idx, np.mean(loss_list), np.mean(accuracy_list)))    \n",
    "    if (epoch_idx+1)%5==0:\n",
    "        x_test, y_test = generateData(total_series_length=BATCH_SIZE*TRUNCATED_BACKPROP_LENGTH)\n",
    "        y_pred = model(tf.reshape(tf.transpose(x_test.astype(np.float32),(0,1)),(-1,BATCH_SIZE,1)))\n",
    "        plot(loss_list, accuracy_list, y_pred, x_test, y_test)"
   ]
  }
 ],
 "metadata": {
  "anaconda-cloud": {},
  "kernelspec": {
   "display_name": "Python 3",
   "language": "python",
   "name": "python3"
  },
  "language_info": {
   "codemirror_mode": {
    "name": "ipython",
    "version": 3
   },
   "file_extension": ".py",
   "mimetype": "text/x-python",
   "name": "python",
   "nbconvert_exporter": "python",
   "pygments_lexer": "ipython3",
   "version": "3.6.7"
  }
 },
 "nbformat": 4,
 "nbformat_minor": 1
}
