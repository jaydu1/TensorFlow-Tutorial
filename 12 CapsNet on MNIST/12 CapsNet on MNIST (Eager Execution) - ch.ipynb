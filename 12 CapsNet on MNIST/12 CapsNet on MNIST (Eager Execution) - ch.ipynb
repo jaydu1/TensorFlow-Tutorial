{
 "cells": [
  {
   "cell_type": "markdown",
   "metadata": {},
   "source": [
    "# 利用胶囊网络解决MNIST分类问题\n",
    "- 作者 : *Jinhong Du*\n",
    "\n",
    "- 参考资料: \n",
    "    \n",
    "    1. https://arxiv.org/pdf/1710.09829.pdf\n",
    "    2. https://github.com/naturomics/CapsNet-Tensorflow/\n",
    "    3. https://www.jiqizhixin.com/articles/2017-11-05\n",
    "\n",
    "# 目录\n",
    "\n",
    "1. [导入相关包](#Sec1)\n",
    "2. [设置超参数](#Sec2)\n",
    "3. [准备数据](#Sec3)\n",
    "    - [导入数据](#Sec3.1)\n",
    "    - [数据预处理](#Sec3.1)\n",
    "    - [生成Dataset](#Sec3.1) \n",
    "4. [建立模型](#Sec4)\n",
    "    - [Squash函数](#Sec4.1)\n",
    "    - [Routing函数](#Sec4.2)\n",
    "    - [Primary Capsules](#Sec4.3)\n",
    "    - [Digit Capsules](#Sec4.4)\n",
    "    - [建立CapsNet模型](#Sec4.5)\n",
    "    - [损失函数](#Sec4.6) \n",
    "    - [优化器](#Sec4.7)\n",
    "    - [训练与评估](#Sec4.8)    "
   ]
  },
  {
   "cell_type": "markdown",
   "metadata": {},
   "source": [
    "## 1. 导入相关包<a id='Sec1'></a>"
   ]
  },
  {
   "cell_type": "code",
   "execution_count": 1,
   "metadata": {},
   "outputs": [],
   "source": [
    "# 启动eager execution模式，必须在项目开始时运行\n",
    "import tensorflow as tf\n",
    "tfe = tf.contrib.eager\n",
    "tf.enable_eager_execution()\n",
    "\n",
    "import numpy as np\n",
    "import matplotlib.pyplot as plt"
   ]
  },
  {
   "cell_type": "markdown",
   "metadata": {},
   "source": [
    "## 2. 设置超参数<a id='Sec2'></a>"
   ]
  },
  {
   "cell_type": "code",
   "execution_count": 2,
   "metadata": {},
   "outputs": [],
   "source": [
    "NUM_CLASS = 10\n",
    "NUM_EPOCH = 10\n",
    "BATCH_SIZE = 128"
   ]
  },
  {
   "cell_type": "markdown",
   "metadata": {},
   "source": [
    "## 3. 准备数据<a id='Sec3'></a>"
   ]
  },
  {
   "cell_type": "markdown",
   "metadata": {},
   "source": [
    "### 3.1. 导入数据<a id='Sec3.1'></a>"
   ]
  },
  {
   "cell_type": "code",
   "execution_count": 3,
   "metadata": {},
   "outputs": [
    {
     "name": "stdout",
     "output_type": "stream",
     "text": [
      "Training set:\n",
      "       Data :\t shape: (60000, 28, 28) \t type: uint8\n",
      "       Label:\t shape: (60000,) \t\t type: uint8\n",
      "Testing set :\n",
      "       Data :\t shape: (10000, 28, 28) \t type: uint8\n",
      "       Label:\t shape: (10000,) \t\t type: uint8\n"
     ]
    }
   ],
   "source": [
    "(x_train, y_train), (x_test, y_test) = tf.keras.datasets.mnist.load_data(path=r'C:\\Users\\Administrator\\Downloads\\mnist.npz')\n",
    "\n",
    "print('Training set:')\n",
    "print('       Data :\\t shape:', np.shape(x_train), '\\t type:', x_train.dtype)\n",
    "print('       Label:\\t shape:', np.shape(y_train), '\\t\\t type:', y_train.dtype)\n",
    "print('Testing set :')\n",
    "print('       Data :\\t shape:', np.shape(x_test), '\\t type:', x_test.dtype)\n",
    "print('       Label:\\t shape:', np.shape(y_test), '\\t\\t type:', y_test.dtype)"
   ]
  },
  {
   "cell_type": "markdown",
   "metadata": {},
   "source": [
    "### 3.2. 数据预处理<a id='Sec3.2'></a>"
   ]
  },
  {
   "cell_type": "code",
   "execution_count": 4,
   "metadata": {},
   "outputs": [
    {
     "name": "stdout",
     "output_type": "stream",
     "text": [
      "(60000, 28, 28, 1) (10000, 28, 28, 1)\n",
      "tf.Tensor(\n",
      "[[0. 0. 0. ... 0. 0. 0.]\n",
      " [1. 0. 0. ... 0. 0. 0.]\n",
      " [0. 0. 0. ... 0. 0. 0.]\n",
      " ...\n",
      " [0. 0. 0. ... 0. 0. 0.]\n",
      " [0. 0. 0. ... 0. 0. 0.]\n",
      " [0. 0. 0. ... 0. 1. 0.]], shape=(60000, 10), dtype=float32) tf.Tensor(\n",
      "[[0. 0. 0. ... 1. 0. 0.]\n",
      " [0. 0. 1. ... 0. 0. 0.]\n",
      " [0. 1. 0. ... 0. 0. 0.]\n",
      " ...\n",
      " [0. 0. 0. ... 0. 0. 0.]\n",
      " [0. 0. 0. ... 0. 0. 0.]\n",
      " [0. 0. 0. ... 0. 0. 0.]], shape=(10000, 10), dtype=float32)\n"
     ]
    }
   ],
   "source": [
    "# 转化为浮点型并归一化\n",
    "x_train = np.reshape(x_train.astype(np.float32)/255,(-1,28,28,1))\n",
    "x_test = np.reshape(x_test.astype(np.float32)/255,(-1,28,28,1))\n",
    "print(np.shape(x_train), np.shape(x_test))\n",
    "\n",
    "# 将标签转化为ont-hot向量\n",
    "y_train = tf.one_hot(y_train, NUM_CLASS, dtype=tf.float32)\n",
    "y_test = tf.one_hot(y_test, NUM_CLASS, dtype=tf.float32)\n",
    "print(y_train, y_test)"
   ]
  },
  {
   "cell_type": "markdown",
   "metadata": {},
   "source": [
    "### 3.3. 生成Dataset<a id='Sec3.3'></a>"
   ]
  },
  {
   "cell_type": "code",
   "execution_count": 5,
   "metadata": {},
   "outputs": [],
   "source": [
    "# 生成用于训练的Dataset\n",
    "TrainDataset = tf.data.Dataset.from_tensor_slices((x_train, y_train))\n",
    "# 按buffer_size打乱\n",
    "TrainDataset = TrainDataset.shuffle(buffer_size=5000)\n",
    "# 设置Batch size，若最后一个batch不足BATCH_SIZE个则丢弃\n",
    "TrainDataset = TrainDataset.batch(BATCH_SIZE, drop_remainder=True)\n",
    "\n",
    "# 生成用于测试的Dataset\n",
    "TestDataset = tf.data.Dataset.from_tensor_slices((x_test, y_test)).batch(BATCH_SIZE, drop_remainder=True)"
   ]
  },
  {
   "cell_type": "markdown",
   "metadata": {},
   "source": [
    "## 4. 建立模型<a id='Sec4'></a>"
   ]
  },
  {
   "cell_type": "markdown",
   "metadata": {},
   "source": [
    "### 4.1 Squash函数<a id='Sec4.1'></a>"
   ]
  },
  {
   "cell_type": "code",
   "execution_count": 6,
   "metadata": {},
   "outputs": [],
   "source": [
    "def squash(vector):\n",
    "    '''Squashing函数\n",
    "    Args:\n",
    "        vector: A tensor with shape [batch_size, 1, num_caps, vec_len, 1] or [batch_size, num_caps, vec_len, 1].\n",
    "    Returns:\n",
    "        A tensor with the same shape as vector but squashed in 'vec_len' dimension.\n",
    "    '''\n",
    "    epsilon = 1e-9\n",
    "    # 计算向量的模\n",
    "    vec_squared_norm = tf.reduce_sum(tf.square(vector), -2, keepdims=True)\n",
    "    # 计算标准化的系数\n",
    "    scalar_factor = vec_squared_norm / (1 + vec_squared_norm) / tf.sqrt(vec_squared_norm + epsilon)\n",
    "    # 逐元素乘积\n",
    "    vec_squashed = scalar_factor * vector  \n",
    "    return(vec_squashed)"
   ]
  },
  {
   "cell_type": "markdown",
   "metadata": {},
   "source": [
    "### 4.2 Routing函数<a id='Sec4.2'></a>"
   ]
  },
  {
   "cell_type": "code",
   "execution_count": 7,
   "metadata": {},
   "outputs": [],
   "source": [
    "def routing(input_tensor, b, W, biases, num_caps_out=10, num_dims=16, iteration=3):\n",
    "    ''' The routing algorithm.\n",
    "    Args:\n",
    "        input_tensor - A tensor with [batch_size, num_caps_in=1152, 1, length(u_i)=8, 1]\n",
    "                        shape, num_caps_in meaning the number of capsule in layer l, i.e. \n",
    "                        the preceding layer.\n",
    "        b            - A tensor with all values being zeros and [1, num_caps_in, \n",
    "                        num_caps_out] shape. \n",
    "        W            - A tensor with [1, num_caps_in, num_caps_out * len_v_j, len_u_j, 1]\n",
    "                        shape. \n",
    "        num_caps_out - The number of output capsules.\n",
    "        num_dims     - The number of dimensions for output capsule.\n",
    "    Returns:\n",
    "        A Tensor of shape [batch_size, num_caps_l_plus_1, length(v_j)=16, 1]\n",
    "        representing the vector output `v_j` in the layer l+1\n",
    "    Notes:\n",
    "        u_i represents the vector output of capsule i in the layer l, and\n",
    "        v_j the vector output of capsule j in the layer l+1.\n",
    "     '''\n",
    "\n",
    "    input_shape = tf.shape(input_tensor)\n",
    "    # [batch_size, 1152, 160, 8, 1]\n",
    "    \n",
    "    # Eq.2, 计算u_hat\n",
    "    # 因为tf.matmul操作比较耗时，我们可以尝试用逐元素相乘来计算：\n",
    "    # 形状为[a, b]、[b, c]的两矩阵相乘 <=> 先将形状复制为[a*c, b]、[b, a*c]，再将第二个矩阵转置，\n",
    "    # 两者逐元素相乘后再对axis=1求和，并reshape为[a, c]\n",
    "    input_tensor = tf.tile(input_tensor, [1, 1, num_dims * num_caps_out, 1, 1])\n",
    "    u_hat = tf.reduce_sum(W * input_tensor, axis=3, keepdims=True)\n",
    "    u_hat = tf.reshape(u_hat, shape=[-1, input_shape[1], num_caps_out, num_dims, 1])\n",
    "    # [batch_size, 1152, 10, 16, 1]\n",
    "\n",
    "    # u_hat_stopped = u_hat用于routing算法，不计算其梯度\n",
    "    u_hat_stopped = tf.stop_gradient(u_hat, name='stop_gradient')\n",
    "\n",
    "    # line 3, 开始迭代\n",
    "    for r_iter in range(iteration):\n",
    "        # line 4:\n",
    "        c_IJ = tf.nn.softmax(b, axis=2)\n",
    "        # [batch_size, 1152, 10, 1, 1]\n",
    "        \n",
    "        # 在最后一次迭代，用`u_hat`来连接后续网络\n",
    "        if r_iter == iteration - 1:\n",
    "            # line 5:\n",
    "            # 用c_IJ作为权重计算u_hat的加权和s_J, c_IJ*u_hat最后两个维度逐元素相乘 \n",
    "            s_J = tf.multiply(c_IJ, u_hat)\n",
    "            # [batch_size, 1152, 10, 16, 1]\n",
    "            \n",
    "            s_J = tf.reduce_sum(s_J, axis=1, keepdims=True) + biases\n",
    "            # [batch_size, 1, 10, 16, 1]\n",
    "\n",
    "            # line 6:\n",
    "            # squash\n",
    "            v_J = squash(s_J)\n",
    "            # [batch_size, 1, 10, 16, 1]\n",
    "            \n",
    "        # 最后一次迭代之前不需要反向传播误差，用u_hat_stopped\n",
    "        elif r_iter < iteration - 1:  \n",
    "            s_J = tf.multiply(c_IJ, u_hat_stopped)\n",
    "            s_J = tf.reduce_sum(s_J, axis=1, keepdims=True) + biases\n",
    "            v_J = squash(s_J)\n",
    "\n",
    "            # line 7:\n",
    "            # reshape & tile v_j from [batch_size ,1, 10, 16, 1] to [batch_size, 1152, 10, 16, 1]\n",
    "            v_J_tiled = tf.tile(v_J, [1, input_shape[1], 1, 1, 1])\n",
    "            u_produce_v = tf.reduce_sum(u_hat_stopped * v_J_tiled, axis=3, keepdims=True)\n",
    "            # [batch_size, 1152, 10, 1, 1]\n",
    "\n",
    "            b += u_produce_v\n",
    "\n",
    "    return(v_J)"
   ]
  },
  {
   "cell_type": "markdown",
   "metadata": {},
   "source": [
    "### 4.3. Primary Capsules<a id='Sec4.3'></a>"
   ]
  },
  {
   "cell_type": "code",
   "execution_count": 8,
   "metadata": {},
   "outputs": [],
   "source": [
    "class PrimaryCaps(object):\n",
    "    def __init__(self, num_caps_out=32, vec_len=8):\n",
    "        self.num_caps_out = num_caps_out\n",
    "        self.vec_len = vec_len\n",
    "        self.caps = [\n",
    "            tf.layers.Conv2D(filters = self.num_caps_out, kernel_size = 9, strides = 2,\n",
    "                             padding = 'valid', activation = None, name = 'PrimaryCaps_%d'%i) for i in range(self.vec_len)]\n",
    "    \n",
    "    def __call__(self, x):  \n",
    "        batch_size = tf.shape(x)[0]\n",
    "        capsules = []\n",
    "        for i in range(self.vec_len):\n",
    "            # 将一般卷积的结果张量拉平，并为添加到列表中\n",
    "            caps_i = tf.reshape(self.caps[i](x), shape=(batch_size, -1, 1, 1))\n",
    "            capsules.append(caps_i)\n",
    "\n",
    "        # 合并为PrimaryCaps的输出张量，即6×6×32个长度为8的向量，合并后的维度为 [batch_size, 1152, 8, 1]\n",
    "        capsules = tf.concat(capsules, axis=2)\n",
    "        # 将每个Capsule 向量投入非线性函数squash进行缩放与激活\n",
    "        capsules = squash(capsules)\n",
    "        return capsules"
   ]
  },
  {
   "cell_type": "markdown",
   "metadata": {},
   "source": [
    "### 4.4. Digit Capsules<a id='Sec4.4'></a>"
   ]
  },
  {
   "cell_type": "code",
   "execution_count": 9,
   "metadata": {},
   "outputs": [],
   "source": [
    "class DigitCaps(object):\n",
    "    def __init__(self, num_caps_out=10, vec_len=16):\n",
    "        self.num_caps_out = num_caps_out\n",
    "        self.vec_len = vec_len\n",
    "        self.input_shape = [-1, 1152, 8, 1]\n",
    "        \n",
    "        self.W = tfe.Variable(\n",
    "            tf.random_normal(shape=[1, self.input_shape[1], self.vec_len * self.num_caps_out] + self.input_shape[-2:],\n",
    "            dtype=tf.float32, stddev=0.01), name = 'DigitCaps_W')\n",
    "        self.biases = tfe.Variable(\n",
    "            tf.zeros(shape=(1, 1, self.num_caps_out, self.vec_len, 1),\n",
    "            dtype=tf.float32), name = 'DigitCaps_b')\n",
    "    \n",
    "    def __call__(self, input_tensor): \n",
    "        batch_size = tf.shape(input_tensor)[0]\n",
    "        input_tensor = tf.reshape(input_tensor, shape=(batch_size, -1, 1, self.input_shape[-2], 1))\n",
    "        b = tf.constant(tf.zeros([1, self.input_shape[1], self.num_caps_out, 1, 1], dtype=np.float32))\n",
    "        capsules = routing(input_tensor, b, self.W, self.biases)\n",
    "        # tf.squeeze去除为1的维度得到 DigitCaps 层的输出向量\n",
    "        capsules = tf.squeeze(capsules, axis=1)\n",
    "        return capsules"
   ]
  },
  {
   "cell_type": "markdown",
   "metadata": {},
   "source": [
    "### 4.5. 建立CapsNet模型<a id='Sec4.5'></a>"
   ]
  },
  {
   "cell_type": "code",
   "execution_count": 10,
   "metadata": {},
   "outputs": [],
   "source": [
    "class CapsNet(tf.keras.Model):\n",
    "    def __init__(self, height=28, width=28, channels=1, num_label=NUM_CLASS):\n",
    "        super(CapsNet, self).__init__()\n",
    "        self.height = height\n",
    "        self.width = width\n",
    "        self.channels = channels\n",
    "        self.num_label = num_label\n",
    "        \n",
    "        # 1st layer\n",
    "        self.Conv1 = tf.layers.Conv2D(filters = 256, kernel_size = 9, strides = 1,\n",
    "                                      padding = 'valid', activation = tf.nn.relu, name = 'Conv1')\n",
    "        \n",
    "        # 2nd layer - PrimaryCaps\n",
    "        self.PrimaryCaps = PrimaryCaps(num_caps_out=32, vec_len=8)\n",
    "  \n",
    "        # 3rd layer - DigitCaps\n",
    "        self.DigitCaps = DigitCaps(num_caps_out=10, vec_len=16)\n",
    "        \n",
    "        # 重构部分\n",
    "        # 3个全连接层\n",
    "        self.fc1 = tf.layers.Dense(\n",
    "                            units=512,\n",
    "                            activation=tf.nn.relu,\n",
    "                            kernel_initializer=tf.contrib.layers.xavier_initializer(),\n",
    "                            bias_initializer=tf.zeros_initializer(),\n",
    "                            name='fc1')\n",
    "        self.fc2 = tf.layers.Dense(\n",
    "                            units=1024,\n",
    "                            activation=tf.nn.relu,\n",
    "                            kernel_initializer=tf.contrib.layers.xavier_initializer(),\n",
    "                            bias_initializer=tf.zeros_initializer(),\n",
    "                            name='fc2')    \n",
    "        self.fc3 = tf.layers.Dense(\n",
    "                            units=self.height * self.width * self.channels,\n",
    "                            activation=tf.sigmoid,\n",
    "                            kernel_initializer=tf.contrib.layers.xavier_initializer(),\n",
    "                            bias_initializer=tf.zeros_initializer(),\n",
    "                            name='fc3')\n",
    "        \n",
    "    def call(self, X, Y, reconstruct=False):\n",
    "        epsilon = 1e-9\n",
    "        batch_size = tf.shape(X)[0]\n",
    "        \n",
    "        conv1 = self.Conv1(X)\n",
    "        # Output [batch_size, 1152, 8, 1]\n",
    "        caps1 = self.PrimaryCaps(conv1)\n",
    "        v = self.DigitCaps(caps1)\n",
    "        \n",
    "        # a). 计算v的模||v_c||，及softmax(||v_c||)\n",
    "        # [batch_size, 10, 16, 1] => [batch_size, 10, 1, 1]\n",
    "        v_length = tf.sqrt(tf.reduce_sum(tf.square(v),\n",
    "                                               axis=2, keepdims=True) + epsilon)\n",
    "        softmax_v = tf.nn.softmax(v_length, axis=1)\n",
    "        # [batch_size, self.num_label, 1, 1]\n",
    "\n",
    "        # b). 取出模最大对应的索引\n",
    "        # [batch_size, 10, 1, 1] => [batch_size] (index)\n",
    "        argmax_idx = tf.to_int32(tf.argmax(softmax_v, axis=1))\n",
    "        # [batch_size, 1, 1]\n",
    "        argmax_idx = tf.reshape(argmax_idx, shape=(batch_size, ))\n",
    "            \n",
    "        masked_v = tf.multiply(tf.squeeze(v), tf.reshape(Y, (-1, self.num_label, 1)))\n",
    "        \n",
    "        # 2. 重构\n",
    "        # [batch_size, 1, 16, 1] => [batch_size, 16] => [batch_size, 512]\n",
    "        vector_j = tf.reshape(masked_v, shape=(batch_size, -1))\n",
    "        fc1_output = self.fc1(vector_j)\n",
    "        fc2_output = self.fc2(fc1_output)\n",
    "        X_decoded = self.fc3(fc2_output)\n",
    "        margin_loss, self.reconstruction_loss, self.total_loss = Loss(X, Y, v, X_decoded)\n",
    "        \n",
    "        if reconstruct:\n",
    "            self.recon_img = tf.reshape(X_decoded, shape=(batch_size, self.height, self.width, self.channels))\n",
    "            \n",
    "        accuracy = Accuracy(Y, argmax_idx)\n",
    "        return margin_loss, reconstruction_loss, total_loss, accuracy\n"
   ]
  },
  {
   "cell_type": "markdown",
   "metadata": {},
   "source": [
    "### 4.6. 损失函数<a id='Sec4.6'></a>"
   ]
  },
  {
   "cell_type": "code",
   "execution_count": 11,
   "metadata": {},
   "outputs": [],
   "source": [
    "def MarginLoss(v, Y, m_plus = 0.9, m_minus = 0.1, lambda_val = 0.5):\n",
    "    '''\n",
    "    Calculate the sum of separate digit margin loss for every samples\n",
    "    and average it over batched samples.\n",
    "    Input:\n",
    "        Y         - One-hot labels.\n",
    "        v         - The output tensor of the DigitCaps layer.   \n",
    "    '''    \n",
    "    epsilon = 1e-9\n",
    "    batch_size = tf.shape(v)[0]\n",
    "    v_length = tf.sqrt(tf.reduce_sum(tf.square(v),\n",
    "                                               axis=2, keepdims=True) + epsilon)\n",
    "    # [batch_size, 10, 1, 1]\n",
    "    # max_l = max(0, m_plus-||v_c||)^2\n",
    "    max_l = tf.square(tf.maximum(0., m_plus - v_length))\n",
    "    # max_r = max(0, ||v_c||-m_minus)^2\n",
    "    max_r = tf.square(tf.maximum(0., v_length - m_minus))    \n",
    "    \n",
    "    # reshape: [batch_size, 10, 1, 1] => [batch_size, 10]\n",
    "    max_l = tf.reshape(max_l, shape=(batch_size, -1))\n",
    "    max_r = tf.reshape(max_r, shape=(batch_size, -1))\n",
    "    \n",
    "    # calc T_c: [batch_size, 10]\n",
    "    T_c = Y\n",
    "    # [batch_size, 10], element-wise multiply\n",
    "    L_c = T_c * max_l + lambda_val * (1 - T_c) * max_r\n",
    "\n",
    "    return tf.reduce_mean(tf.reduce_sum(L_c, axis=1))\n",
    "\n",
    "def ReconstructionLoss(X, X_decoded):\n",
    "    '''\n",
    "    Calculate the sum of squared construction error for every samples\n",
    "    and average it over batched samples.\n",
    "    Input:\n",
    "        X         - Input tensor.\n",
    "        X_decoded - The output tensor of the reconstruction layer.    \n",
    "    '''\n",
    "    batch_size = tf.shape(X)[0]\n",
    "    orgin = tf.reshape(X, shape=(batch_size, -1))\n",
    "    squared = tf.square(X_decoded - orgin)\n",
    "    return tf.reduce_mean(tf.reduce_sum(squared, axis=1))\n",
    "    \n",
    "def Loss(X, Y, v, X_decoded, regularization_scale = 0.0005):\n",
    "    '''\n",
    "    Input:\n",
    "        X         - Input tensor.\n",
    "        Y         - One-hot labels.\n",
    "        v         - The output tensor of the DigitCaps layer.\n",
    "        X_decoded - The output tensor of the reconstruction layer.\n",
    "    '''\n",
    "    margin_loss = MarginLoss(v, Y)\n",
    "    reconstruction_loss = ReconstructionLoss(X, X_decoded)\n",
    "    return margin_loss, reconstruction_loss, margin_loss + regularization_scale * reconstruction_loss"
   ]
  },
  {
   "cell_type": "code",
   "execution_count": 12,
   "metadata": {},
   "outputs": [],
   "source": [
    "def Accuracy(Y, Y_pred):\n",
    "    '''\n",
    "    Input:\n",
    "        Y      - One-hot vectors with shape [BATCH_SIZE, NUM_CLASS]\n",
    "        Y_pred - The predicted classes with shape [BATCH_SIZE, ]\n",
    "    '''\n",
    "    correct_prediction = tf.equal(tf.to_int32(tf.argmax(Y, axis=1)), Y_pred)\n",
    "    return tf.reduce_mean(tf.cast(correct_prediction, tf.float32))  "
   ]
  },
  {
   "cell_type": "markdown",
   "metadata": {},
   "source": [
    "### 4.7. 优化器<a id='Sec4.7'></a>"
   ]
  },
  {
   "cell_type": "code",
   "execution_count": 13,
   "metadata": {},
   "outputs": [],
   "source": [
    "# 使用默认参数的Adam优化器\n",
    "optimizer = tf.train.AdamOptimizer()"
   ]
  },
  {
   "cell_type": "markdown",
   "metadata": {},
   "source": [
    "### 4.8. 训练与评估<a id='Sec4.8'></a>"
   ]
  },
  {
   "cell_type": "code",
   "execution_count": 14,
   "metadata": {
    "scrolled": true
   },
   "outputs": [
    {
     "name": "stdout",
     "output_type": "stream",
     "text": [
      "--------------------------------------------Epoch  1/10--------------------------------------------\n",
      "Training\n",
      "batch   1: Margin Loss:0.8099, Reconstruction Loss:180.7562, Total Loss:0.9003, Accuracy:0.0781\n",
      "batch 101: Margin Loss:0.6824, Reconstruction Loss:50.6285, Total Loss:0.7077, Accuracy:0.6094\n",
      "batch 201: Margin Loss:0.6435, Reconstruction Loss:40.5060, Total Loss:0.6638, Accuracy:0.6953\n",
      "batch 301: Margin Loss:0.6296, Reconstruction Loss:38.9720, Total Loss:0.6491, Accuracy:0.6016\n",
      "batch 401: Margin Loss:0.6198, Reconstruction Loss:35.9607, Total Loss:0.6378, Accuracy:0.7344\n",
      "Testing:\n",
      "\tMargin Loss:0.6104, Reconstruction Loss:35.7684, Total Loss:0.6283, Accuracy:0.7202\n",
      "--------------------------------------------Epoch  2/10--------------------------------------------\n",
      "Training\n",
      "batch   1: Margin Loss:0.6059, Reconstruction Loss:34.0771, Total Loss:0.6229, Accuracy:0.7500\n",
      "batch 101: Margin Loss:0.6114, Reconstruction Loss:34.1039, Total Loss:0.6285, Accuracy:0.6953\n",
      "batch 201: Margin Loss:0.5876, Reconstruction Loss:30.7336, Total Loss:0.6030, Accuracy:0.7578\n",
      "batch 301: Margin Loss:0.6058, Reconstruction Loss:32.4880, Total Loss:0.6221, Accuracy:0.7031\n",
      "batch 401: Margin Loss:0.5829, Reconstruction Loss:30.0627, Total Loss:0.5979, Accuracy:0.7891\n",
      "Testing:\n",
      "\tMargin Loss:0.5887, Reconstruction Loss:29.7957, Total Loss:0.6036, Accuracy:0.7434\n",
      "--------------------------------------------Epoch  3/10--------------------------------------------\n",
      "Training\n",
      "batch   1: Margin Loss:0.5813, Reconstruction Loss:29.1123, Total Loss:0.5958, Accuracy:0.8047\n",
      "batch 101: Margin Loss:0.5907, Reconstruction Loss:29.9067, Total Loss:0.6057, Accuracy:0.7109\n",
      "batch 201: Margin Loss:0.5877, Reconstruction Loss:28.6457, Total Loss:0.6020, Accuracy:0.6953\n",
      "batch 301: Margin Loss:0.5975, Reconstruction Loss:28.7958, Total Loss:0.6119, Accuracy:0.6719\n",
      "batch 401: Margin Loss:0.5811, Reconstruction Loss:28.0409, Total Loss:0.5951, Accuracy:0.7188\n",
      "Testing:\n",
      "\tMargin Loss:0.5781, Reconstruction Loss:27.1447, Total Loss:0.5917, Accuracy:0.7551\n",
      "--------------------------------------------Epoch  4/10--------------------------------------------\n",
      "Training\n",
      "batch   1: Margin Loss:0.5828, Reconstruction Loss:26.7230, Total Loss:0.5962, Accuracy:0.7344\n",
      "batch 101: Margin Loss:0.5868, Reconstruction Loss:26.1579, Total Loss:0.5999, Accuracy:0.7344\n",
      "batch 201: Margin Loss:0.5672, Reconstruction Loss:26.5614, Total Loss:0.5804, Accuracy:0.8047\n",
      "batch 301: Margin Loss:0.5686, Reconstruction Loss:24.7278, Total Loss:0.5809, Accuracy:0.7891\n",
      "batch 401: Margin Loss:0.5883, Reconstruction Loss:25.7204, Total Loss:0.6011, Accuracy:0.7188\n",
      "Testing:\n",
      "\tMargin Loss:0.5713, Reconstruction Loss:25.3174, Total Loss:0.5840, Accuracy:0.7581\n",
      "--------------------------------------------Epoch  5/10--------------------------------------------\n",
      "Training\n",
      "batch   1: Margin Loss:0.5732, Reconstruction Loss:25.7380, Total Loss:0.5860, Accuracy:0.7578\n",
      "batch 101: Margin Loss:0.5712, Reconstruction Loss:25.2765, Total Loss:0.5838, Accuracy:0.7266\n",
      "batch 201: Margin Loss:0.5746, Reconstruction Loss:26.6917, Total Loss:0.5880, Accuracy:0.8125\n",
      "batch 301: Margin Loss:0.5860, Reconstruction Loss:25.3892, Total Loss:0.5987, Accuracy:0.7266\n",
      "batch 401: Margin Loss:0.5778, Reconstruction Loss:25.5677, Total Loss:0.5906, Accuracy:0.7266\n",
      "Testing:\n",
      "\tMargin Loss:0.5665, Reconstruction Loss:24.2266, Total Loss:0.5786, Accuracy:0.7624\n",
      "--------------------------------------------Epoch  6/10--------------------------------------------\n",
      "Training\n",
      "batch   1: Margin Loss:0.5615, Reconstruction Loss:23.7016, Total Loss:0.5734, Accuracy:0.7656\n",
      "batch 101: Margin Loss:0.5755, Reconstruction Loss:24.4052, Total Loss:0.5877, Accuracy:0.7188\n",
      "batch 201: Margin Loss:0.5551, Reconstruction Loss:22.2530, Total Loss:0.5663, Accuracy:0.7656\n",
      "batch 301: Margin Loss:0.5709, Reconstruction Loss:25.8876, Total Loss:0.5838, Accuracy:0.7500\n",
      "batch 401: Margin Loss:0.5670, Reconstruction Loss:23.5495, Total Loss:0.5788, Accuracy:0.7500\n",
      "Testing:\n",
      "\tMargin Loss:0.5626, Reconstruction Loss:23.4333, Total Loss:0.5744, Accuracy:0.7645\n",
      "--------------------------------------------Epoch  7/10--------------------------------------------\n",
      "Training\n",
      "batch   1: Margin Loss:0.5709, Reconstruction Loss:23.5006, Total Loss:0.5826, Accuracy:0.7656\n",
      "batch 101: Margin Loss:0.5653, Reconstruction Loss:25.1234, Total Loss:0.5779, Accuracy:0.7266\n",
      "batch 201: Margin Loss:0.5710, Reconstruction Loss:24.2608, Total Loss:0.5831, Accuracy:0.7188\n",
      "batch 301: Margin Loss:0.5653, Reconstruction Loss:22.6085, Total Loss:0.5766, Accuracy:0.7891\n",
      "batch 401: Margin Loss:0.5681, Reconstruction Loss:23.5656, Total Loss:0.5799, Accuracy:0.7031\n",
      "Testing:\n",
      "\tMargin Loss:0.5597, Reconstruction Loss:22.8300, Total Loss:0.5711, Accuracy:0.7667\n",
      "--------------------------------------------Epoch  8/10--------------------------------------------\n",
      "Training\n",
      "batch   1: Margin Loss:0.5638, Reconstruction Loss:22.9444, Total Loss:0.5753, Accuracy:0.7500\n",
      "batch 101: Margin Loss:0.5849, Reconstruction Loss:25.3915, Total Loss:0.5976, Accuracy:0.6953\n",
      "batch 201: Margin Loss:0.5594, Reconstruction Loss:22.4024, Total Loss:0.5706, Accuracy:0.7734\n",
      "batch 301: Margin Loss:0.5566, Reconstruction Loss:21.6458, Total Loss:0.5674, Accuracy:0.7578\n",
      "batch 401: Margin Loss:0.5425, Reconstruction Loss:21.3778, Total Loss:0.5532, Accuracy:0.7812\n",
      "Testing:\n",
      "\tMargin Loss:0.5568, Reconstruction Loss:22.3995, Total Loss:0.5680, Accuracy:0.7674\n",
      "--------------------------------------------Epoch  9/10--------------------------------------------\n",
      "Training\n",
      "batch   1: Margin Loss:0.5494, Reconstruction Loss:21.2890, Total Loss:0.5601, Accuracy:0.7812\n",
      "batch 101: Margin Loss:0.5458, Reconstruction Loss:21.8888, Total Loss:0.5567, Accuracy:0.7734\n",
      "batch 201: Margin Loss:0.5594, Reconstruction Loss:22.3730, Total Loss:0.5706, Accuracy:0.7734\n",
      "batch 301: Margin Loss:0.5616, Reconstruction Loss:21.9750, Total Loss:0.5726, Accuracy:0.7656\n",
      "batch 401: Margin Loss:0.5479, Reconstruction Loss:21.4499, Total Loss:0.5586, Accuracy:0.7734\n",
      "Testing:\n",
      "\tMargin Loss:0.5546, Reconstruction Loss:21.9351, Total Loss:0.5656, Accuracy:0.7687\n",
      "--------------------------------------------Epoch 10/10--------------------------------------------\n",
      "Training\n",
      "batch   1: Margin Loss:0.5525, Reconstruction Loss:22.0651, Total Loss:0.5635, Accuracy:0.7578\n",
      "batch 101: Margin Loss:0.5630, Reconstruction Loss:22.6947, Total Loss:0.5743, Accuracy:0.7422\n",
      "batch 201: Margin Loss:0.5758, Reconstruction Loss:23.6276, Total Loss:0.5876, Accuracy:0.7188\n",
      "batch 301: Margin Loss:0.5625, Reconstruction Loss:22.1713, Total Loss:0.5736, Accuracy:0.7656\n",
      "batch 401: Margin Loss:0.5530, Reconstruction Loss:21.2477, Total Loss:0.5636, Accuracy:0.7734\n",
      "Testing:\n",
      "\tMargin Loss:0.5528, Reconstruction Loss:21.5064, Total Loss:0.5635, Accuracy:0.7715\n"
     ]
    }
   ],
   "source": [
    "# 确保有足够的GPU资源，否则应调整减少batch size，\n",
    "# 或者使用CPU进行训练\n",
    "config = tf.ConfigProto()\n",
    "config.gpu_options.allow_growth = True\n",
    "\n",
    "model = CapsNet()\n",
    "for epoch in range(NUM_EPOCH):\n",
    "    print(\"--------------------------------------------Epoch %2d/%2d--------------------------------------------\" % (epoch+1, NUM_EPOCH))\n",
    "    print('Training')\n",
    "    for (batch, (x, y)) in enumerate(TrainDataset):\n",
    "        with tf.GradientTape() as tape:\n",
    "            margin_loss, reconstruction_loss, total_loss, accuracy = model(x,y)\n",
    "        grads = tape.gradient(model.total_loss, model.variables)\n",
    "        optimizer.apply_gradients(zip(grads, model.variables))\n",
    "        if batch%100==0:\n",
    "            print('batch %3d:'%(batch+1),'Margin Loss:%3.4f, Reconstruction Loss:%3.4f, Total Loss:%3.4f, Accuracy:%3.4f'%(margin_loss, reconstruction_loss, total_loss, accuracy))\n",
    "    \n",
    "    margin_loss_list = []\n",
    "    reconstruction_loss_list = []\n",
    "    total_loss_list =[]\n",
    "    accuracy_list = []\n",
    "    for (batch, (x, y)) in enumerate(TestDataset):\n",
    "        margin_loss, reconstruction_loss, total_loss, accuracy = model(x,y)\n",
    "        margin_loss_list.append(margin_loss)\n",
    "        reconstruction_loss_list.append(reconstruction_loss)\n",
    "        total_loss_list.append(total_loss)\n",
    "        accuracy_list.append(accuracy)\n",
    "    print('Testing:')\n",
    "    print('\\tMargin Loss:%3.4f, Reconstruction Loss:%3.4f, Total Loss:%3.4f, Accuracy:%3.4f'%(np.mean(margin_loss_list), np.mean(reconstruction_loss_list), np.mean(total_loss_list), np.mean(accuracy_list)))"
   ]
  },
  {
   "cell_type": "code",
   "execution_count": 36,
   "metadata": {},
   "outputs": [
    {
     "data": {
      "image/png": "[encoded data removed]",
      "text/plain": [
       "<Figure size 576x144 with 4 Axes>"
      ]
     },
     "metadata": {},
     "output_type": "display_data"
    },
    {
     "data": {
      "image/png": "[encoded data removed]",
      "text/plain": [
       "<Figure size 576x144 with 4 Axes>"
      ]
     },
     "metadata": {},
     "output_type": "display_data"
    }
   ],
   "source": [
    "# 可视化最后一个测试集批次的前4个样本\n",
    "fig1 = plt.figure(figsize=(8,2))\n",
    "for i in range(4):\n",
    "    fig1.add_subplot(1,4,i+1)\n",
    "    plt.imshow(np.reshape(x[i:i+1],(28,28)), cmap='gray')\n",
    "    plt.xticks([])\n",
    "    plt.yticks([])\n",
    "    plt.axis('off')\n",
    "fig1.suptitle('Real Images')\n",
    "fig2 = plt.figure(figsize=(8,2))   \n",
    "fig2.suptitle('Reconstructed Images')\n",
    "for i in range(4):    \n",
    "    fig2.add_subplot(1,4,i+1)\n",
    "    model(x[i:i+1], y[i:i+1], reconstruct=True)\n",
    "    plt.imshow(np.reshape(model.recon_img,(28,28)), cmap='gray')\n",
    "    plt.xticks([])\n",
    "    plt.yticks([])\n",
    "    plt.axis('off')"
   ]
  }
 ],
 "metadata": {
  "kernelspec": {
   "display_name": "Python 3",
   "language": "python",
   "name": "python3"
  },
  "language_info": {
   "codemirror_mode": {
    "name": "ipython",
    "version": 3
   },
   "file_extension": ".py",
   "mimetype": "text/x-python",
   "name": "python",
   "nbconvert_exporter": "python",
   "pygments_lexer": "ipython3",
   "version": "3.6.6"
  }
 },
 "nbformat": 4,
 "nbformat_minor": 2
}
