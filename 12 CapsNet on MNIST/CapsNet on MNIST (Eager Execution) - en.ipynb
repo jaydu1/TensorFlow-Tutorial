{
 "cells": [
  {
   "cell_type": "markdown",
   "metadata": {},
   "source": [
<<<<<<< HEAD
    "# CapsNet on MNIST\n",
    "- Author : *Jinhong Du*\n",
    "\n",
    "- Reference: \n",
    "    \n",
    "    1. https://github.com/naturomics/CapsNet-Tensorflow/blob/master\n",
    "    2. https://www.jiqizhixin.com/articles/2017-11-05\n",
    "\n",
    "# Content\n",
    "\n",
    "1. [Import Related Modules and Packages](#Sec1)\n",
    "2. [Hyperparameters](#Sec2)\n",
    "3. [Prepare for data](#Sec3)\n",
    "    - [Load Data](#Sec3.1)\n",
    "    - [Data Preprocessing](#Sec3.1)\n",
    "    - [Generate Dataset](#Sec3.1) \n",
    "4. [Build RNN from scratch](#Sec4)\n",
<<<<<<< HEAD
<<<<<<< HEAD
    "    - [Squash Function](#Sec4.1)\n",
    "    - [Routing Function](#Sec4.2)\n",
    "    - [Primary Capsules](#Sec4.3)\n",
    "    - [Digit Capsules](#Sec4.4)\n",
    "    - [Build CapsNet](#Sec4.5)\n",
    "    - [Loss Function](#Sec4.6) \n",
    "    - [Optimizer](#Sec4.7)\n",
=======
=======
>>>>>>> be3c459fa3857c4bc3b104c6712a83e936883b7c
    "    - [Primary Capsules](#Sec4.1)\n",
    "    - [Digit Capsules](#Sec4.2)\n",
    "    - [Build CapsNet](#Sec4.3)\n",
    "    - [Loss Function](#Sec4.4) \n",
    "    - [Accuracy Evaluator](#Sec4.5)\n",
    "    - [Optimizer](#Sec4.6)\n",
<<<<<<< HEAD
>>>>>>> be3c459fa3857c4bc3b104c6712a83e936883b7c
=======
>>>>>>> be3c459fa3857c4bc3b104c6712a83e936883b7c
    "    - [Training](#Sec4.8)    "
   ]
  },
  {
   "cell_type": "markdown",
   "metadata": {},
   "source": [
    "## 1. Import Related Modules and Packages<a id='Sec1'></a>"
=======
    "## 1. Import Related Modules and Packages"
>>>>>>> parent of c7b0480... Finish
   ]
  },
  {
   "cell_type": "code",
   "execution_count": 1,
   "metadata": {},
   "outputs": [],
   "source": [
    "import tensorflow as tf\n",
    "tfe = tf.contrib.eager\n",
    "# Enable eager execution mode\n",
    "tf.enable_eager_execution()\n",
    "\n",
    "import numpy as np\n",
    "import matplotlib.pyplot as plt\n",
    "import time"
   ]
  },
  {
   "cell_type": "markdown",
   "metadata": {},
   "source": [
    "## 2. Hyperparameters"
   ]
  },
  {
   "cell_type": "code",
   "execution_count": null,
   "metadata": {},
   "outputs": [],
<<<<<<< HEAD
   "source": [
<<<<<<< HEAD
<<<<<<< HEAD
    "NUM_CLASS = 10\n",
    "NUM_EPOCH = 10\n",
    "BATCH_SIZE = 128"
=======
    "NUM_CLASS = 10"
>>>>>>> be3c459fa3857c4bc3b104c6712a83e936883b7c
=======
    "NUM_CLASS = 10"
>>>>>>> be3c459fa3857c4bc3b104c6712a83e936883b7c
   ]
=======
   "source": []
>>>>>>> parent of c7b0480... Finish
  },
  {
   "cell_type": "markdown",
   "metadata": {},
   "source": [
    "## 3. Prepare for Data"
   ]
  },
  {
   "cell_type": "markdown",
   "metadata": {},
   "source": [
    "### 3.1. Load Data"
   ]
  },
  {
   "cell_type": "code",
   "execution_count": null,
   "metadata": {},
   "outputs": [],
   "source": [
    "(x_train, y_train), (x_test, y_test) = tf.keras.datasets.mnist.load_data(path='mnist.npz')\n",
    "\n",
    "print('Training set:')\n",
    "print('       Data :\\t shape:', np.shape(x_train), '\\t type:', x_train.dtype)\n",
    "print('       Label:\\t shape:', np.shape(y_train), '\\t\\t type:', y_train.dtype)\n",
    "print('Testing set :')\n",
    "print('       Data :\\t shape:', np.shape(x_test), '\\t type:', x_test.dtype)\n",
    "print('       Label:\\t shape:', np.shape(y_test), '\\t\\t type:', y_test.dtype)"
   ]
  },
  {
   "cell_type": "markdown",
   "metadata": {},
   "source": [
    "### 3.2. Data Preprocessing"
   ]
  },
  {
   "cell_type": "code",
   "execution_count": null,
   "metadata": {},
   "outputs": [],
   "source": [
    "# cast to float and standardize to [0,1]\n",
    "x_train = x_train.astype(np.float32)/255\n",
    "x_test = x_test.astype(np.float32)/255\n",
    "print(np.shape(x_train), np.shape(x_test))\n",
    "\n",
    "# transform lables to ont-hot vectors\n",
    "y_train = tf.one_hot(y_train, 10, dtype=tf.float32)\n",
    "y_test = tf.one_hot(y_test, 10, dtype=tf.float32)\n",
    "print(y_train, y_test)"
   ]
  },
  {
   "cell_type": "markdown",
   "metadata": {},
   "source": [
    "### 3.3. Generate Dataset"
   ]
  },
  {
   "cell_type": "code",
   "execution_count": null,
   "metadata": {},
   "outputs": [],
   "source": [
    "# Generate training Dataset\n",
    "TrainDataset = tf.data.Dataset.from_tensor_slices((x_train, y_train))\n",
    "# Shuffle per buffer_size\n",
    "TrainDataset = TrainDataset.shuffle(buffer_size=5000)\n",
    "# Batch size\n",
    "TrainDataset = TrainDataset.batch(BATCH_SIZE, drop_remainder=True)\n",
    "\n",
    "# Generate testing Dataset\n",
    "TestDataset = tf.data.Dataset.from_tensor_slices((x_test, y_test)).batch(BATCH_SIZE, drop_remainder=True)"
   ]
  },
  {
   "cell_type": "markdown",
   "metadata": {},
   "source": [
<<<<<<< HEAD
    "## 4. Build Model<a id='Sec4'></a>"
   ]
  },
  {
   "cell_type": "markdown",
   "metadata": {},
   "source": [
    "### 4.1 Squash Function<a id='Sec4.1'></a>"
   ]
  },
  {
   "cell_type": "code",
<<<<<<< HEAD
<<<<<<< HEAD
   "execution_count": 6,
=======
   "execution_count": null,
>>>>>>> be3c459fa3857c4bc3b104c6712a83e936883b7c
=======
   "execution_count": null,
>>>>>>> be3c459fa3857c4bc3b104c6712a83e936883b7c
   "metadata": {},
   "outputs": [],
   "source": [
    "def squash(vector):\n",
    "    '''Squashing function corresponding to Eq. 1\n",
    "    Args:\n",
    "        vector: A tensor with shape [batch_size, 1, num_caps, vec_len, 1] or [batch_size, num_caps, vec_len, 1].\n",
    "    Returns:\n",
    "        A tensor with the same shape as vector but squashed in 'vec_len' dimension.\n",
    "    '''\n",
<<<<<<< HEAD
<<<<<<< HEAD
    "    epsilon = 1e-9\n",
    "    vec_squared_norm = tf.reduce_sum(tf.square(vector), -2, keepdims=True)\n",
    "    scalar_factor = vec_squared_norm / (1 + vec_squared_norm) / tf.sqrt(vec_squared_norm + epsilon)\n",
    "    vec_squashed = scalar_factor * vector  # element-wise\n",
    "    return(vec_squashed)"
=======
=======
>>>>>>> be3c459fa3857c4bc3b104c6712a83e936883b7c
    "    vec_squared_norm = reduce_sum(tf.square(vector), -2, keepdims=True)\n",
    "    scalar_factor = vec_squared_norm / (1 + vec_squared_norm) / tf.sqrt(vec_squared_norm + epsilon)\n",
    "    vec_squashed = scalar_factor * vector  # element-wise\n",
    "    return(vec_squashed)"
<<<<<<< HEAD
=======
   ]
  },
  {
   "cell_type": "markdown",
   "metadata": {},
   "source": [
    "### 4.2 Routing Function<a id='Sec4.2'></a>"
   ]
  },
  {
   "cell_type": "code",
   "execution_count": null,
   "metadata": {},
   "outputs": [],
   "source": [
    "def routing(input_tensor, b, W, biases, num_outputs=10, num_dims=16):\n",
    "    ''' The routing algorithm.\n",
    "    Args:\n",
    "        input_tensor: A Tensor with [batch_size, num_caps_l=1152, 1, length(u_i)=8, 1]\n",
    "               shape, num_caps_l meaning the number of capsule in the layer l.\n",
    "        num_outputs: the number of output capsules.\n",
    "        num_dims: the number of dimensions for output capsule.\n",
    "    Returns:\n",
    "        A Tensor of shape [batch_size, num_caps_l_plus_1, length(v_j)=16, 1]\n",
    "        representing the vector output `v_j` in the layer l+1\n",
    "    Notes:\n",
    "        u_i represents the vector output of capsule i in the layer l, and\n",
    "        v_j the vector output of capsule j in the layer l+1.\n",
    "     '''\n",
    "\n",
    "    \n",
    "    # W: [1, num_caps_i, num_caps_j * len_v_j, len_u_j, 1]\n",
    "    input_shape = get_shape(input_tensor)\n",
    "\n",
    "    # Eq.2, calc u_hat\n",
    "    # Since tf.matmul is a time-consuming op,\n",
    "    # A better solution is using element-wise multiply, reduce_sum and reshape\n",
    "    # ops instead. Matmul [a, b] x [b, c] is equal to a series ops as\n",
    "    # element-wise multiply [a*c, b] * [a*c, b], reduce_sum at axis=1 and\n",
    "    # reshape to [a, c]\n",
    "    input_tensor = tf.tile(input_tensor, [1, 1, num_dims * num_outputs, 1, 1])\n",
    "    # assert input.get_shape() == [cfg.batch_size, 1152, 160, 8, 1]\n",
    "\n",
    "    u_hat = reduce_sum(W * input_tensor, axis=3, keepdims=True)\n",
    "    u_hat = tf.reshape(u_hat, shape=[-1, input_shape[1], num_outputs, num_dims, 1])\n",
    "    # assert u_hat.get_shape() == [cfg.batch_size, 1152, 10, 16, 1]\n",
    "\n",
    "    # In forward, u_hat_stopped = u_hat; in backward, no gradient passed back from u_hat_stopped to u_hat\n",
    "    u_hat_stopped = tf.stop_gradient(u_hat, name='stop_gradient')\n",
    "\n",
    "    # line 3,for r iterations do\n",
    "    for r_iter in range(cfg.iter_routing):\n",
    "        # line 4:\n",
    "        # => [batch_size, 1152, 10, 1, 1]\n",
    "        c_IJ = softmax(b, axis=2)\n",
    "\n",
    "        # At last iteration, use `u_hat` in order to receive gradients from the following graph\n",
    "        if r_iter == cfg.iter_routing - 1:\n",
    "            # line 5:\n",
    "            # weighting u_hat with c_IJ, element-wise in the last two dims\n",
    "            # => [batch_size, 1152, 10, 16, 1]\n",
    "            s_J = tf.multiply(c_IJ, u_hat)\n",
    "            # then sum in the second dim, resulting in [batch_size, 1, 10, 16, 1]\n",
    "            s_J = reduce_sum(s_J, axis=1, keepdims=True) + biases\n",
    "            # assert s_J.get_shape() == [cfg.batch_size, 1, num_outputs, num_dims, 1]\n",
    "\n",
    "            # line 6:\n",
    "            # squash using Eq.1,\n",
    "            v_J = squash(s_J)\n",
    "            # assert v_J.get_shape() == [cfg.batch_size, 1, 10, 16, 1]\n",
    "        elif r_iter < cfg.iter_routing - 1:  # Inner iterations, do not apply backpropagation\n",
    "            s_J = tf.multiply(c_IJ, u_hat_stopped)\n",
    "            s_J = reduce_sum(s_J, axis=1, keepdims=True) + biases\n",
    "            v_J = squash(s_J)\n",
    "\n",
    "            # line 7:\n",
    "            # reshape & tile v_j from [batch_size ,1, 10, 16, 1] to [batch_size, 1152, 10, 16, 1]\n",
    "            # then matmul in the last tow dim: [16, 1].T x [16, 1] => [1, 1], reduce mean in the\n",
    "            # batch_size dim, resulting in [1, 1152, 10, 1, 1]\n",
    "            v_J_tiled = tf.tile(v_J, [1, input_shape[1], 1, 1, 1])\n",
    "            u_produce_v = reduce_sum(u_hat_stopped * v_J_tiled, axis=3, keepdims=True)\n",
    "            # assert u_produce_v.get_shape() == [cfg.batch_size, 1152, 10, 1, 1]\n",
    "\n",
    "            # b += tf.reduce_sum(u_produce_v, axis=0, keep_dims=True)\n",
    "            b += u_produce_v\n",
    "\n",
    "    return(v_J)"
>>>>>>> be3c459fa3857c4bc3b104c6712a83e936883b7c
=======
    "## 4. Build Model"
>>>>>>> parent of c7b0480... Finish
   ]
  },
  {
   "cell_type": "markdown",
   "metadata": {},
   "source": [
<<<<<<< HEAD
<<<<<<< HEAD
    "### 4.2 Routing Function<a id='Sec4.2'></a>"
=======
    "### 4.3. Primary Capsules<a id='Sec4.3'></a>"
>>>>>>> be3c459fa3857c4bc3b104c6712a83e936883b7c
=======
    "### 4.1. Primary Capsules"
>>>>>>> parent of c7b0480... Finish
   ]
  },
  {
   "cell_type": "code",
   "execution_count": null,
   "metadata": {},
   "outputs": [],
   "source": [
    "class PrimaryCaps(object):\n",
    "    def __init(self):\n",
    "        self.caps = [\n",
    "            tf.layers.Conv2D(filters = self.num_outputs, kernel_size = 9, strides = 2,\n",
    "                             padding = 'valid', activation = None, name = 'PrimaryCapsules%d'%i) for i in range(6)]\n",
    "    \n",
    "    def squash(self, input_tensor):\n",
    "        # TO DO\n",
    "        pass\n",
    "    \n",
    "    def call(self, input_tensor): \n",
    "        # TO DO    \n",
    "        for i in range(self.vec_len):\n",
    "            # 将一般卷积的结果张量拉平，并为添加到列表中\n",
    "            caps_i = tf.reshape(self.caps[i], shape=(batch_size, -1, 1, 1))\n",
    "            capsules.append(caps_i)\n",
    "\n",
    "        # 合并为PrimaryCaps的输出张量，即6×6×32个长度为8的向量，合并后的维度为 [batch_size, 1152, 8, 1]\n",
    "        capsules = tf.concat(capsules, axis=2)\n",
    "        # 将每个Capsule 向量投入非线性函数squash进行缩放与激活\n",
    "        capsules = squash(capsules)"
   ]
  },
  {
   "cell_type": "markdown",
   "metadata": {},
   "source": [
    "### 4.2. Primary Capsules"
   ]
  },
  {
   "cell_type": "code",
   "execution_count": null,
   "metadata": {},
   "outputs": [],
   "source": [
    "class DigitCaps(object):\n",
<<<<<<< HEAD
<<<<<<< HEAD
<<<<<<< HEAD
    "    def __init__(self, num_outputs=10, vec_len=16):\n",
    "        self.num_outputs = num_outputs\n",
    "        self.vec_len = vec_len\n",
    "        self.input_shape = [-1, 1152, 8, 1]\n",
    "        \n",
    "        self.W = tfe.Variable(\n",
    "            tf.random_normal(shape=[1, self.input_shape[1], self.vec_len * self.num_outputs] + self.input_shape[-2:],\n",
    "            dtype=tf.float32, stddev=0.01), name = 'DigitCaps_W')\n",
    "        self.biases = tfe.Variable(\n",
    "            tf.zeros(shape=(1, 1, self.num_outputs, self.vec_len, 1),\n",
    "            dtype=tf.float32), name = 'DigitCaps_b')\n",
    "    \n",
    "    def __call__(self, input_tensor): \n",
    "        batch_size = tf.shape(input_tensor)[0]\n",
    "        input_tensor = tf.reshape(input_tensor, shape=(batch_size, -1, 1, self.input_shape[-2], 1))\n",
    "        b = tf.constant(tf.zeros([1, self.input_shape[1], self.num_outputs, 1, 1], dtype=np.float32))\n",
    "        capsules = routing(input_tensor, b, self.W, self.biases)\n",
=======
=======
>>>>>>> be3c459fa3857c4bc3b104c6712a83e936883b7c
=======
>>>>>>> parent of c7b0480... Finish
    "    def __init(self):\n",
    "        self.b = tf.constant(np.zeros([1, input.shape[1].value, self.num_outputs, 1, 1], dtype=np.float32))\n",
    "    \n",
    "    def routing(self, input_tensor, self.b):\n",
    "        # TO DO\n",
    "        pass\n",
    "    \n",
    "    def call(self, input_tensor): \n",
<<<<<<< HEAD
    "        # TO DO   \n",
    "        b = tf.constant(tf.zeros([1, self.input_shape[1], self.num_outputs, 1, 1], dtype=np.float32))\n",
    "        capsules = routing(input_tensor, self.b, self.W, self.biases)\n",
<<<<<<< HEAD
>>>>>>> be3c459fa3857c4bc3b104c6712a83e936883b7c
=======
>>>>>>> be3c459fa3857c4bc3b104c6712a83e936883b7c
=======
    "        # TO DO    \n",
    "        capsules = self.routing(input_tensor, self.b)\n",
>>>>>>> parent of c7b0480... Finish
    "        #将s_j投入 squeeze 函数以得出 DigitCaps 层的输出向量\n",
    "        capsules = tf.squeeze(capsules, axis=1)\n",
    "        return capsules"
   ]
  },
  {
   "cell_type": "markdown",
   "metadata": {},
   "source": [
    "### 4.3. Build CapsNet"
   ]
  },
  {
   "cell_type": "code",
   "execution_count": null,
   "metadata": {},
   "outputs": [],
   "source": [
    "class CapsNet(tf.keras.Model):\n",
<<<<<<< HEAD
<<<<<<< HEAD
<<<<<<< HEAD
    "    def __init__(self, height=28, width=28, channels=1, num_label=NUM_CLASS):\n",
    "        super(CapsNet, self).__init__()\n",
    "        self.height = height\n",
    "        self.width = width\n",
    "        self.channels = channels\n",
    "        self.num_label = num_label\n",
=======
=======
>>>>>>> be3c459fa3857c4bc3b104c6712a83e936883b7c
    "    def __init__(self):\n",
=======
    "    def __init__(self, device='cpu:0'):\n",
>>>>>>> parent of c7b0480... Finish
    "        super(MNISTModel, self).__init__()\n",
    "        self.device = device\n",
    "        self._input_shape = [-1, 28, 28, 1]\n",
    "        \n",
    "        # 1st layer\n",
    "        self.Conv1 = tf.layers.Conv2D(filters = 256, kernel_size = 9, strides = 1,\n",
    "                                      padding = 'valid', activation = tf.nn.relu, name = 'Conv1')\n",
    "        \n",
    "        # 2nd layer - PrimaryCaps\n",
    "        self.PrimaryCaps = PrimaryCaps()\n",
    "  \n",
    "        # 3rd layer - DigitCaps\n",
    "        self.DigitCaps = DigitCaps()\n",
    "    \n",
    "    def call(self, input_tensor):\n",
    "        input_tensor = self.Conv1(input_tensor)\n",
    "        input_tensor = self.PrimaryCaps(input_tensor)\n",
    "        input_tensor = self.DigitCaps(input_tensor)\n",
    "        return input_tensor"
   ]
  },
  {
   "cell_type": "markdown",
   "metadata": {},
   "source": [
    "### 4.4. Loss Function"
   ]
  },
  {
   "cell_type": "code",
   "execution_count": null,
   "metadata": {},
   "outputs": [],
<<<<<<< HEAD
<<<<<<< HEAD
<<<<<<< HEAD
   "source": [
    "def MarginLoss(v, Y, m_plus = 0.9, m_minus = 0.1, lambda_val = 0.5):\n",
    "    '''\n",
    "    Calculate the sum of separate digit margin loss for every samples\n",
    "    and average it over batched samples.\n",
    "    Input:\n",
    "        Y         - One-hot labels.\n",
    "        v         - The output tensor of the DigitCaps layer.   \n",
    "    '''    \n",
    "    epsilon = 1e-9\n",
    "    batch_size = tf.shape(v)[0]\n",
    "    v_length = tf.sqrt(tf.reduce_sum(tf.square(v),\n",
    "                                               axis=2, keepdims=True) + epsilon)\n",
    "    # [batch_size, 10, 1, 1]\n",
    "    # max_l = max(0, m_plus-||v_c||)^2\n",
    "    max_l = tf.square(tf.maximum(0., m_plus - v_length))\n",
    "    # max_r = max(0, ||v_c||-m_minus)^2\n",
    "    max_r = tf.square(tf.maximum(0., v_length - m_minus))    \n",
    "    \n",
    "    # reshape: [batch_size, 10, 1, 1] => [batch_size, 10]\n",
    "    max_l = tf.reshape(max_l, shape=(batch_size, -1))\n",
    "    max_r = tf.reshape(max_r, shape=(batch_size, -1))\n",
    "    \n",
    "    # calc T_c: [batch_size, 10]\n",
    "    T_c = Y\n",
    "    # [batch_size, 10], element-wise multiply\n",
    "    L_c = T_c * max_l + lambda_val * (1 - T_c) * max_r\n",
    "\n",
    "    return tf.reduce_mean(tf.reduce_sum(L_c, axis=1))\n",
    "\n",
    "def ReconstructionLoss(X, X_decoded):\n",
    "    '''\n",
    "    Calculate the sum of squared construction error for every samples\n",
    "    and average it over batched samples.\n",
    "    Input:\n",
    "        X         - Input tensor.\n",
    "        X_decoded - The output tensor of the reconstruction layer.    \n",
    "    '''\n",
    "    batch_size = tf.shape(X)[0]\n",
    "    orgin = tf.reshape(X, shape=(batch_size, -1))\n",
    "    squared = tf.square(X_decoded - orgin)\n",
    "    return tf.reduce_mean(tf.reduce_sum(squared, axis=1))\n",
    "    \n",
    "def Loss(X, Y, v, X_decoded, regularization_scale = 0.0005):\n",
    "    '''\n",
    "    Input:\n",
    "        X         - Input tensor.\n",
    "        Y         - One-hot labels.\n",
    "        v         - The output tensor of the DigitCaps layer.\n",
    "        X_decoded - The output tensor of the reconstruction layer.\n",
    "    '''\n",
    "    margin_loss = MarginLoss(v, Y)\n",
    "    reconstruction_loss = ReconstructionLoss(X, X_decoded)\n",
    "    return margin_loss, reconstruction_loss, margin_loss + regularization_scale * reconstruction_loss"
=======
=======
>>>>>>> be3c459fa3857c4bc3b104c6712a83e936883b7c
   "source": [
    "def MarginLoss(v, Y, m_plus = 0.9, m_minus = 0.1, lambda_val = 0.5):\n",
    "    '''\n",
    "    Calculate the sum of separate digit margin loss for every samples\n",
    "    and average it over batched samples.\n",
    "    Input:\n",
    "        Y         - One-hot labels.\n",
    "        v         - The output tensor of the DigitCaps layer.   \n",
    "    '''    \n",
    "    batch_size = tf.shape(v)[0]\n",
    "    # [batch_size, 10, 1, 1]\n",
    "    # max_l = max(0, m_plus-||v_c||)^2\n",
    "    max_l = tf.square(tf.maximum(0., m_plus - v_length))\n",
    "    # max_r = max(0, ||v_c||-m_minus)^2\n",
    "    max_r = tf.square(tf.maximum(0., v_length - m_minus))    \n",
    "    \n",
    "    # reshape: [batch_size, 10, 1, 1] => [batch_size, 10]\n",
    "    max_l = tf.reshape(max_l, shape=(batch_size, -1))\n",
    "    max_r = tf.reshape(max_r, shape=(batch_size, -1))\n",
    "    \n",
    "    # calc T_c: [batch_size, 10]\n",
    "    T_c = Y\n",
    "    # [batch_size, 10], element-wise multiply\n",
    "    L_c = T_c * max_l + lambda_val * (1 - T_c) * max_r\n",
    "\n",
    "    return tf.reduce_mean(tf.reduce_sum(L_c, axis=1))\n",
    "\n",
    "def ReconstructionLoss(X, X_decoded):\n",
    "    '''\n",
    "    Calculate the sum of squared construction error for every samples\n",
    "    and average it over batched samples.\n",
    "    Input:\n",
    "        X         - Input tensor.\n",
    "        X_decoded - The output tensor of the reconstruction layer.    \n",
    "    '''\n",
    "    batch_size = tf.shape(X)[0]\n",
    "    orgin = tf.reshape(X, shape=(batch_size, -1))\n",
    "    squared = tf.square(X_decoded - orgin)\n",
    "    return tf.reduce_mean(tf.reduce_sum(squared, axis=1))\n",
    "    \n",
    "def loss(X, Y, v, X_decoded, regularization_scale = 0.0005):\n",
    "    '''\n",
    "    Input:\n",
    "        X         - Input tensor.\n",
    "        Y         - One-hot labels.\n",
    "        v         - The output tensor of the DigitCaps layer.\n",
    "        X_decoded - The output tensor of the reconstruction layer.\n",
    "    '''\n",
    "    return MarginLoss(v, Y) + regularization_scale * ReconstructionLoss(X, X_decoded)"
   ]
=======
   "source": []
>>>>>>> parent of c7b0480... Finish
  },
  {
   "cell_type": "markdown",
   "metadata": {},
   "source": [
<<<<<<< HEAD
    "### 4.7. Accuracy Evaluator<a id='Sec4.7'></a>"
<<<<<<< HEAD
>>>>>>> be3c459fa3857c4bc3b104c6712a83e936883b7c
=======
>>>>>>> be3c459fa3857c4bc3b104c6712a83e936883b7c
=======
    "### 4.5. Accuracy Evaluator"
>>>>>>> parent of c7b0480... Finish
   ]
  },
  {
   "cell_type": "code",
   "execution_count": null,
   "metadata": {},
   "outputs": [],
   "source": []
  },
  {
   "cell_type": "markdown",
   "metadata": {},
   "source": [
<<<<<<< HEAD
<<<<<<< HEAD
<<<<<<< HEAD
    "### 4.7. Optimizer<a id='Sec4.7'></a>"
=======
    "### 4.8. Optimizer<a id='Sec4.8'></a>"
>>>>>>> be3c459fa3857c4bc3b104c6712a83e936883b7c
=======
    "### 4.8. Optimizer<a id='Sec4.8'></a>"
>>>>>>> be3c459fa3857c4bc3b104c6712a83e936883b7c
=======
    "### 4.6. Optimizer"
>>>>>>> parent of c7b0480... Finish
   ]
  },
  {
   "cell_type": "code",
   "execution_count": null,
   "metadata": {},
   "outputs": [],
   "source": []
  },
  {
   "cell_type": "markdown",
   "metadata": {},
   "source": [
<<<<<<< HEAD
<<<<<<< HEAD
<<<<<<< HEAD
    "### 4.8. Training<a id='Sec4.8'></a>"
=======
    "### 4.9. Training<a id='Sec4.9'></a>"
>>>>>>> be3c459fa3857c4bc3b104c6712a83e936883b7c
=======
    "### 4.9. Training<a id='Sec4.9'></a>"
>>>>>>> be3c459fa3857c4bc3b104c6712a83e936883b7c
   ]
  },
  {
   "cell_type": "code",
   "execution_count": 14,
   "metadata": {
    "scrolled": true
   },
   "outputs": [
    {
     "name": "stdout",
     "output_type": "stream",
     "text": [
      "--------------------------------------------Epoch  1/10--------------------------------------------\n",
      "Training\n",
      "batch   1: Margin Loss:0.8099, Reconstruction Loss:180.7562, Total Loss:0.9003, Accuracy:0.0781\n",
      "batch 101: Margin Loss:0.6824, Reconstruction Loss:50.6285, Total Loss:0.7077, Accuracy:0.6094\n",
      "batch 201: Margin Loss:0.6435, Reconstruction Loss:40.5060, Total Loss:0.6638, Accuracy:0.6953\n",
      "batch 301: Margin Loss:0.6296, Reconstruction Loss:38.9720, Total Loss:0.6491, Accuracy:0.6016\n",
      "batch 401: Margin Loss:0.6198, Reconstruction Loss:35.9607, Total Loss:0.6378, Accuracy:0.7344\n",
      "Testing:\n",
      "\tMargin Loss:0.6104, Reconstruction Loss:35.7684, Total Loss:0.6283, Accuracy:0.7202\n",
      "--------------------------------------------Epoch  2/10--------------------------------------------\n",
      "Training\n",
      "batch   1: Margin Loss:0.6059, Reconstruction Loss:34.0771, Total Loss:0.6229, Accuracy:0.7500\n",
      "batch 101: Margin Loss:0.6114, Reconstruction Loss:34.1039, Total Loss:0.6285, Accuracy:0.6953\n",
      "batch 201: Margin Loss:0.5876, Reconstruction Loss:30.7336, Total Loss:0.6030, Accuracy:0.7578\n",
      "batch 301: Margin Loss:0.6058, Reconstruction Loss:32.4880, Total Loss:0.6221, Accuracy:0.7031\n",
      "batch 401: Margin Loss:0.5829, Reconstruction Loss:30.0627, Total Loss:0.5979, Accuracy:0.7891\n",
      "Testing:\n",
      "\tMargin Loss:0.5887, Reconstruction Loss:29.7957, Total Loss:0.6036, Accuracy:0.7434\n",
      "--------------------------------------------Epoch  3/10--------------------------------------------\n",
      "Training\n",
      "batch   1: Margin Loss:0.5813, Reconstruction Loss:29.1123, Total Loss:0.5958, Accuracy:0.8047\n",
      "batch 101: Margin Loss:0.5907, Reconstruction Loss:29.9067, Total Loss:0.6057, Accuracy:0.7109\n",
      "batch 201: Margin Loss:0.5877, Reconstruction Loss:28.6457, Total Loss:0.6020, Accuracy:0.6953\n",
      "batch 301: Margin Loss:0.5975, Reconstruction Loss:28.7958, Total Loss:0.6119, Accuracy:0.6719\n",
      "batch 401: Margin Loss:0.5811, Reconstruction Loss:28.0409, Total Loss:0.5951, Accuracy:0.7188\n",
      "Testing:\n",
      "\tMargin Loss:0.5781, Reconstruction Loss:27.1447, Total Loss:0.5917, Accuracy:0.7551\n",
      "--------------------------------------------Epoch  4/10--------------------------------------------\n",
      "Training\n",
      "batch   1: Margin Loss:0.5828, Reconstruction Loss:26.7230, Total Loss:0.5962, Accuracy:0.7344\n",
      "batch 101: Margin Loss:0.5868, Reconstruction Loss:26.1579, Total Loss:0.5999, Accuracy:0.7344\n",
      "batch 201: Margin Loss:0.5672, Reconstruction Loss:26.5614, Total Loss:0.5804, Accuracy:0.8047\n",
      "batch 301: Margin Loss:0.5686, Reconstruction Loss:24.7278, Total Loss:0.5809, Accuracy:0.7891\n",
      "batch 401: Margin Loss:0.5883, Reconstruction Loss:25.7204, Total Loss:0.6011, Accuracy:0.7188\n",
      "Testing:\n",
      "\tMargin Loss:0.5713, Reconstruction Loss:25.3174, Total Loss:0.5840, Accuracy:0.7581\n",
      "--------------------------------------------Epoch  5/10--------------------------------------------\n",
      "Training\n",
      "batch   1: Margin Loss:0.5732, Reconstruction Loss:25.7380, Total Loss:0.5860, Accuracy:0.7578\n",
      "batch 101: Margin Loss:0.5712, Reconstruction Loss:25.2765, Total Loss:0.5838, Accuracy:0.7266\n",
      "batch 201: Margin Loss:0.5746, Reconstruction Loss:26.6917, Total Loss:0.5880, Accuracy:0.8125\n",
      "batch 301: Margin Loss:0.5860, Reconstruction Loss:25.3892, Total Loss:0.5987, Accuracy:0.7266\n",
      "batch 401: Margin Loss:0.5778, Reconstruction Loss:25.5677, Total Loss:0.5906, Accuracy:0.7266\n",
      "Testing:\n",
      "\tMargin Loss:0.5665, Reconstruction Loss:24.2266, Total Loss:0.5786, Accuracy:0.7624\n",
      "--------------------------------------------Epoch  6/10--------------------------------------------\n",
      "Training\n",
      "batch   1: Margin Loss:0.5615, Reconstruction Loss:23.7016, Total Loss:0.5734, Accuracy:0.7656\n",
      "batch 101: Margin Loss:0.5755, Reconstruction Loss:24.4052, Total Loss:0.5877, Accuracy:0.7188\n",
      "batch 201: Margin Loss:0.5551, Reconstruction Loss:22.2530, Total Loss:0.5663, Accuracy:0.7656\n",
      "batch 301: Margin Loss:0.5709, Reconstruction Loss:25.8876, Total Loss:0.5838, Accuracy:0.7500\n",
      "batch 401: Margin Loss:0.5670, Reconstruction Loss:23.5495, Total Loss:0.5788, Accuracy:0.7500\n",
      "Testing:\n",
      "\tMargin Loss:0.5626, Reconstruction Loss:23.4333, Total Loss:0.5744, Accuracy:0.7645\n",
      "--------------------------------------------Epoch  7/10--------------------------------------------\n",
      "Training\n",
      "batch   1: Margin Loss:0.5709, Reconstruction Loss:23.5006, Total Loss:0.5826, Accuracy:0.7656\n",
      "batch 101: Margin Loss:0.5653, Reconstruction Loss:25.1234, Total Loss:0.5779, Accuracy:0.7266\n",
      "batch 201: Margin Loss:0.5710, Reconstruction Loss:24.2608, Total Loss:0.5831, Accuracy:0.7188\n",
      "batch 301: Margin Loss:0.5653, Reconstruction Loss:22.6085, Total Loss:0.5766, Accuracy:0.7891\n",
      "batch 401: Margin Loss:0.5681, Reconstruction Loss:23.5656, Total Loss:0.5799, Accuracy:0.7031\n",
      "Testing:\n",
      "\tMargin Loss:0.5597, Reconstruction Loss:22.8300, Total Loss:0.5711, Accuracy:0.7667\n",
      "--------------------------------------------Epoch  8/10--------------------------------------------\n",
      "Training\n",
      "batch   1: Margin Loss:0.5638, Reconstruction Loss:22.9444, Total Loss:0.5753, Accuracy:0.7500\n",
      "batch 101: Margin Loss:0.5849, Reconstruction Loss:25.3915, Total Loss:0.5976, Accuracy:0.6953\n",
      "batch 201: Margin Loss:0.5594, Reconstruction Loss:22.4024, Total Loss:0.5706, Accuracy:0.7734\n",
      "batch 301: Margin Loss:0.5566, Reconstruction Loss:21.6458, Total Loss:0.5674, Accuracy:0.7578\n",
      "batch 401: Margin Loss:0.5425, Reconstruction Loss:21.3778, Total Loss:0.5532, Accuracy:0.7812\n",
      "Testing:\n",
      "\tMargin Loss:0.5568, Reconstruction Loss:22.3995, Total Loss:0.5680, Accuracy:0.7674\n",
      "--------------------------------------------Epoch  9/10--------------------------------------------\n",
      "Training\n",
      "batch   1: Margin Loss:0.5494, Reconstruction Loss:21.2890, Total Loss:0.5601, Accuracy:0.7812\n",
      "batch 101: Margin Loss:0.5458, Reconstruction Loss:21.8888, Total Loss:0.5567, Accuracy:0.7734\n",
      "batch 201: Margin Loss:0.5594, Reconstruction Loss:22.3730, Total Loss:0.5706, Accuracy:0.7734\n",
      "batch 301: Margin Loss:0.5616, Reconstruction Loss:21.9750, Total Loss:0.5726, Accuracy:0.7656\n",
      "batch 401: Margin Loss:0.5479, Reconstruction Loss:21.4499, Total Loss:0.5586, Accuracy:0.7734\n",
      "Testing:\n",
      "\tMargin Loss:0.5546, Reconstruction Loss:21.9351, Total Loss:0.5656, Accuracy:0.7687\n",
      "--------------------------------------------Epoch 10/10--------------------------------------------\n",
      "Training\n",
      "batch   1: Margin Loss:0.5525, Reconstruction Loss:22.0651, Total Loss:0.5635, Accuracy:0.7578\n",
      "batch 101: Margin Loss:0.5630, Reconstruction Loss:22.6947, Total Loss:0.5743, Accuracy:0.7422\n",
      "batch 201: Margin Loss:0.5758, Reconstruction Loss:23.6276, Total Loss:0.5876, Accuracy:0.7188\n",
      "batch 301: Margin Loss:0.5625, Reconstruction Loss:22.1713, Total Loss:0.5736, Accuracy:0.7656\n",
      "batch 401: Margin Loss:0.5530, Reconstruction Loss:21.2477, Total Loss:0.5636, Accuracy:0.7734\n",
      "Testing:\n",
      "\tMargin Loss:0.5528, Reconstruction Loss:21.5064, Total Loss:0.5635, Accuracy:0.7715\n"
     ]
    }
   ],
   "source": [
    "# Make sure you have enough GPU resources\n",
    "# or you can train only on CPU with a small batch size\n",
    "config = tf.ConfigProto()\n",
    "config.gpu_options.allow_growth = True\n",
    "\n",
    "model = CapsNet()\n",
    "for epoch in range(NUM_EPOCH):\n",
    "    print(\"--------------------------------------------Epoch %2d/%2d--------------------------------------------\" % (epoch+1, NUM_EPOCH))\n",
    "    print('Training')\n",
    "    for (batch, (x, y)) in enumerate(TrainDataset):\n",
    "        with tf.GradientTape() as tape:\n",
    "            margin_loss, reconstruction_loss, total_loss, accuracy = model(x,y)\n",
    "        grads = tape.gradient(model.total_loss, model.variables)\n",
    "        optimizer.apply_gradients(zip(grads, model.variables))\n",
    "        if batch%100==0:\n",
    "            print('batch %3d:'%(batch+1),'Margin Loss:%3.4f, Reconstruction Loss:%3.4f, Total Loss:%3.4f, Accuracy:%3.4f'%(margin_loss, reconstruction_loss, total_loss, accuracy))\n",
    "    \n",
    "    margin_loss_list = []\n",
    "    reconstruction_loss_list = []\n",
    "    total_loss_list =[]\n",
    "    accuracy_list = []\n",
    "    for (batch, (x, y)) in enumerate(TestDataset):\n",
    "        margin_loss, reconstruction_loss, total_loss, accuracy = model(x,y)\n",
    "        margin_loss_list.append(margin_loss)\n",
    "        reconstruction_loss_list.append(reconstruction_loss)\n",
    "        total_loss_list.append(total_loss)\n",
    "        accuracy_list.append(accuracy)\n",
    "    print('Testing:')\n",
    "    print('\\tMargin Loss:%3.4f, Reconstruction Loss:%3.4f, Total Loss:%3.4f, Accuracy:%3.4f'%(np.mean(margin_loss_list), np.mean(reconstruction_loss_list), np.mean(total_loss_list), np.mean(accuracy_list)))"
=======
    "### 4.7. Training"
>>>>>>> parent of c7b0480... Finish
   ]
  },
  {
   "cell_type": "code",
   "execution_count": null,
   "metadata": {},
   "outputs": [],
   "source": []
  }
 ],
 "metadata": {
  "kernelspec": {
   "display_name": "Python 3",
   "language": "python",
   "name": "python3"
  },
  "language_info": {
   "codemirror_mode": {
    "name": "ipython",
    "version": 3
   },
   "file_extension": ".py",
   "mimetype": "text/x-python",
   "name": "python",
   "nbconvert_exporter": "python",
   "pygments_lexer": "ipython3",
   "version": "3.6.6"
  }
 },
 "nbformat": 4,
 "nbformat_minor": 2
}
