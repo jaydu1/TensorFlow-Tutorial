{
 "cells": [
  {
   "cell_type": "markdown",
   "metadata": {},
   "source": [
    "## 1. Import Related Modules and Packages"
   ]
  },
  {
   "cell_type": "code",
   "execution_count": 1,
   "metadata": {},
   "outputs": [],
   "source": [
    "import tensorflow as tf\n",
    "tfe = tf.contrib.eager\n",
    "# Enable eager execution mode\n",
    "tf.enable_eager_execution()\n",
    "\n",
    "import numpy as np\n",
    "import matplotlib.pyplot as plt\n",
    "import time"
   ]
  },
  {
   "cell_type": "markdown",
   "metadata": {},
   "source": [
    "## 2. Hyperparameters"
   ]
  },
  {
   "cell_type": "code",
   "execution_count": null,
   "metadata": {},
   "outputs": [],
   "source": []
  },
  {
   "cell_type": "markdown",
   "metadata": {},
   "source": [
    "## 3. Prepare for Data"
   ]
  },
  {
   "cell_type": "markdown",
   "metadata": {},
   "source": [
    "### 3.1. Load Data"
   ]
  },
  {
   "cell_type": "code",
   "execution_count": null,
   "metadata": {},
   "outputs": [],
   "source": [
    "(x_train, y_train), (x_test, y_test) = tf.keras.datasets.mnist.load_data(path='mnist.npz')\n",
    "\n",
    "print('Training set:')\n",
    "print('       Data :\\t shape:', np.shape(x_train), '\\t type:', x_train.dtype)\n",
    "print('       Label:\\t shape:', np.shape(y_train), '\\t\\t type:', y_train.dtype)\n",
    "print('Testing set :')\n",
    "print('       Data :\\t shape:', np.shape(x_test), '\\t type:', x_test.dtype)\n",
    "print('       Label:\\t shape:', np.shape(y_test), '\\t\\t type:', y_test.dtype)"
   ]
  },
  {
   "cell_type": "markdown",
   "metadata": {},
   "source": [
    "### 3.2. Data Preprocessing"
   ]
  },
  {
   "cell_type": "code",
   "execution_count": null,
   "metadata": {},
   "outputs": [],
   "source": [
    "# cast to float and standardize to [0,1]\n",
    "x_train = x_train.astype(np.float32)/255\n",
    "x_test = x_test.astype(np.float32)/255\n",
    "print(np.shape(x_train), np.shape(x_test))\n",
    "\n",
    "# transform lables to ont-hot vectors\n",
    "y_train = tf.one_hot(y_train, 10, dtype=tf.float32)\n",
    "y_test = tf.one_hot(y_test, 10, dtype=tf.float32)\n",
    "print(y_train, y_test)"
   ]
  },
  {
   "cell_type": "markdown",
   "metadata": {},
   "source": [
    "### 3.3. Generate Dataset"
   ]
  },
  {
   "cell_type": "code",
   "execution_count": null,
   "metadata": {},
   "outputs": [],
   "source": [
    "# Generate training Dataset\n",
    "TrainDataset = tf.data.Dataset.from_tensor_slices((x_train, y_train))\n",
    "# Shuffle per buffer_size\n",
    "TrainDataset = TrainDataset.shuffle(buffer_size=5000)\n",
    "# Batch size\n",
    "TrainDataset = TrainDataset.batch(BATCH_SIZE, drop_remainder=True)\n",
    "\n",
    "# Generate testing Dataset\n",
    "TestDataset = tf.data.Dataset.from_tensor_slices((x_test, y_test)).batch(BATCH_SIZE, drop_remainder=True)"
   ]
  },
  {
   "cell_type": "markdown",
   "metadata": {},
   "source": [
    "## 4. Build Model"
   ]
  },
  {
   "cell_type": "markdown",
   "metadata": {},
   "source": [
    "### 4.1. Primary Capsules"
   ]
  },
  {
   "cell_type": "code",
   "execution_count": null,
   "metadata": {},
   "outputs": [],
   "source": [
    "class PrimaryCaps(object):\n",
    "    def __init(self):\n",
    "        self.caps = [\n",
    "            tf.layers.Conv2D(filters = self.num_outputs, kernel_size = 9, strides = 2,\n",
    "                             padding = 'valid', activation = None, name = 'PrimaryCapsules%d'%i) for i in range(6)]\n",
    "    \n",
    "    def squash(self, input_tensor):\n",
    "        # TO DO\n",
    "        pass\n",
    "    \n",
    "    def call(self, input_tensor): \n",
    "        # TO DO    \n",
    "        for i in range(self.vec_len):\n",
    "            # 将一般卷积的结果张量拉平，并为添加到列表中\n",
    "            caps_i = tf.reshape(self.caps[i], shape=(batch_size, -1, 1, 1))\n",
    "            capsules.append(caps_i)\n",
    "\n",
    "        # 合并为PrimaryCaps的输出张量，即6×6×32个长度为8的向量，合并后的维度为 [batch_size, 1152, 8, 1]\n",
    "        capsules = tf.concat(capsules, axis=2)\n",
    "        # 将每个Capsule 向量投入非线性函数squash进行缩放与激活\n",
    "        capsules = squash(capsules)"
   ]
  },
  {
   "cell_type": "markdown",
   "metadata": {},
   "source": [
    "### 4.2. Primary Capsules"
   ]
  },
  {
   "cell_type": "code",
   "execution_count": null,
   "metadata": {},
   "outputs": [],
   "source": [
    "class DigitCaps(object):\n",
    "    def __init(self):\n",
    "        self.b = tf.constant(np.zeros([1, input.shape[1].value, self.num_outputs, 1, 1], dtype=np.float32))\n",
    "    \n",
    "    def routing(self, input_tensor, self.b):\n",
    "        # TO DO\n",
    "        pass\n",
    "    \n",
    "    def call(self, input_tensor): \n",
    "        # TO DO    \n",
    "        capsules = self.routing(input_tensor, self.b)\n",
    "        #将s_j投入 squeeze 函数以得出 DigitCaps 层的输出向量\n",
    "        capsules = tf.squeeze(capsules, axis=1)\n",
    "        return capsules"
   ]
  },
  {
   "cell_type": "markdown",
   "metadata": {},
   "source": [
    "### 4.3. Build CapsNet"
   ]
  },
  {
   "cell_type": "code",
   "execution_count": null,
   "metadata": {},
   "outputs": [],
   "source": [
    "class CapsNet(tf.keras.Model):\n",
    "    def __init__(self, device='cpu:0'):\n",
    "        super(MNISTModel, self).__init__()\n",
    "        self.device = device\n",
    "        self._input_shape = [-1, 28, 28, 1]\n",
    "        \n",
    "        # 1st layer\n",
    "        self.Conv1 = tf.layers.Conv2D(filters = 256, kernel_size = 9, strides = 1,\n",
    "                                      padding = 'valid', activation = tf.nn.relu, name = 'Conv1')\n",
    "        \n",
    "        # 2nd layer - PrimaryCaps\n",
    "        self.PrimaryCaps = PrimaryCaps()\n",
    "  \n",
    "        # 3rd layer - DigitCaps\n",
    "        self.DigitCaps = DigitCaps()\n",
    "    \n",
    "    def call(self, input_tensor):\n",
    "        input_tensor = self.Conv1(input_tensor)\n",
    "        input_tensor = self.PrimaryCaps(input_tensor)\n",
    "        input_tensor = self.DigitCaps(input_tensor)\n",
    "        return input_tensor"
   ]
  },
  {
   "cell_type": "markdown",
   "metadata": {},
   "source": [
    "### 4.4. Loss Function"
   ]
  },
  {
   "cell_type": "code",
   "execution_count": null,
   "metadata": {},
   "outputs": [],
   "source": []
  },
  {
   "cell_type": "markdown",
   "metadata": {},
   "source": [
    "### 4.5. Accuracy Evaluator"
   ]
  },
  {
   "cell_type": "code",
   "execution_count": null,
   "metadata": {},
   "outputs": [],
   "source": []
  },
  {
   "cell_type": "markdown",
   "metadata": {},
   "source": [
    "### 4.6. Optimizer"
   ]
  },
  {
   "cell_type": "code",
   "execution_count": null,
   "metadata": {},
   "outputs": [],
   "source": []
  },
  {
   "cell_type": "markdown",
   "metadata": {},
   "source": [
    "### 4.7. Training"
   ]
  },
  {
   "cell_type": "code",
   "execution_count": null,
   "metadata": {},
   "outputs": [],
   "source": []
  }
 ],
 "metadata": {
  "kernelspec": {
   "display_name": "Python 3",
   "language": "python",
   "name": "python3"
  },
  "language_info": {
   "codemirror_mode": {
    "name": "ipython",
    "version": 3
   },
   "file_extension": ".py",
   "mimetype": "text/x-python",
   "name": "python",
   "nbconvert_exporter": "python",
   "pygments_lexer": "ipython3",
   "version": "3.6.6"
  }
 },
 "nbformat": 4,
 "nbformat_minor": 2
}
