{
 "cells": [
  {
   "cell_type": "markdown",
   "metadata": {},
   "source": [
    "# CapsNet on MNIST\n",
    "- Author : *Jinhong Du*\n",
    "\n",
    "- Reference: \n",
    "    \n",
    "    1. https://github.com/naturomics/CapsNet-Tensorflow/blob/master\n",
    "    2. https://www.jiqizhixin.com/articles/2017-11-05\n",
    "\n",
    "# Content\n",
    "\n",
    "1. [Import Related Modules and Packages](#Sec1)\n",
    "2. [Hyperparameters](#Sec2)\n",
    "3. [Prepare for data](#Sec3)\n",
    "    - [Load Data](#Sec3.1)\n",
    "    - [Data Preprocessing](#Sec3.1)\n",
    "    - [Generate Dataset](#Sec3.1) \n",
    "4. [Build RNN from scratch](#Sec4)\n",
    "    - [Primary Capsules](#Sec4.1)\n",
    "    - [Digit Capsules](#Sec4.2)\n",
    "    - [Build CapsNet](#Sec4.3)\n",
    "    - [Loss Function](#Sec4.4) \n",
    "    - [Accuracy Evaluator](#Sec4.5)\n",
    "    - [Optimizer](#Sec4.6)\n",
    "    - [Training](#Sec4.8)    "
   ]
  },
  {
   "cell_type": "markdown",
   "metadata": {},
   "source": [
    "## 1. Import Related Modules and Packages<a id='Sec1'></a>"
   ]
  },
  {
   "cell_type": "code",
   "execution_count": 1,
   "metadata": {},
   "outputs": [],
   "source": [
    "import tensorflow as tf\n",
    "tfe = tf.contrib.eager\n",
    "# Enable eager execution mode\n",
    "tf.enable_eager_execution()\n",
    "\n",
    "import numpy as np\n",
    "import matplotlib.pyplot as plt\n",
    "import time"
   ]
  },
  {
   "cell_type": "markdown",
   "metadata": {},
   "source": [
    "## 2. Hyperparameters<a id='Sec2'></a>"
   ]
  },
  {
   "cell_type": "code",
   "execution_count": null,
   "metadata": {},
   "outputs": [],
   "source": [
    "NUM_CLASS = 10"
   ]
  },
  {
   "cell_type": "markdown",
   "metadata": {},
   "source": [
    "## 3. Prepare for Data<a id='Sec3'></a>"
   ]
  },
  {
   "cell_type": "markdown",
   "metadata": {},
   "source": [
    "### 3.1. Load Data<a id='Sec3.1'></a>"
   ]
  },
  {
   "cell_type": "code",
   "execution_count": null,
   "metadata": {},
   "outputs": [],
   "source": [
    "(x_train, y_train), (x_test, y_test) = tf.keras.datasets.mnist.load_data(path='mnist.npz')\n",
    "\n",
    "print('Training set:')\n",
    "print('       Data :\\t shape:', np.shape(x_train), '\\t type:', x_train.dtype)\n",
    "print('       Label:\\t shape:', np.shape(y_train), '\\t\\t type:', y_train.dtype)\n",
    "print('Testing set :')\n",
    "print('       Data :\\t shape:', np.shape(x_test), '\\t type:', x_test.dtype)\n",
    "print('       Label:\\t shape:', np.shape(y_test), '\\t\\t type:', y_test.dtype)"
   ]
  },
  {
   "cell_type": "markdown",
   "metadata": {},
   "source": [
    "### 3.2. Data Preprocessing<a id='Sec3.2'></a>"
   ]
  },
  {
   "cell_type": "code",
   "execution_count": null,
   "metadata": {},
   "outputs": [],
   "source": [
    "# cast to float and standardize to [0,1]\n",
    "x_train = x_train.astype(np.float32)/255\n",
    "x_test = x_test.astype(np.float32)/255\n",
    "print(np.shape(x_train), np.shape(x_test))\n",
    "\n",
    "# transform lables to ont-hot vectors\n",
    "y_train = tf.one_hot(y_train, NUM_CLASS, dtype=tf.float32)\n",
    "y_test = tf.one_hot(y_test, NUM_CLASS, dtype=tf.float32)\n",
    "print(y_train, y_test)"
   ]
  },
  {
   "cell_type": "markdown",
   "metadata": {},
   "source": [
    "### 3.3. Generate Dataset<a id='Sec3.3'></a>"
   ]
  },
  {
   "cell_type": "code",
   "execution_count": null,
   "metadata": {},
   "outputs": [],
   "source": [
    "# Generate training Dataset\n",
    "TrainDataset = tf.data.Dataset.from_tensor_slices((x_train, y_train))\n",
    "# Shuffle per buffer_size\n",
    "TrainDataset = TrainDataset.shuffle(buffer_size=5000)\n",
    "# Batch size\n",
    "TrainDataset = TrainDataset.batch(BATCH_SIZE, drop_remainder=True)\n",
    "\n",
    "# Generate testing Dataset\n",
    "TestDataset = tf.data.Dataset.from_tensor_slices((x_test, y_test)).batch(BATCH_SIZE, drop_remainder=True)"
   ]
  },
  {
   "cell_type": "markdown",
   "metadata": {},
   "source": [
    "## 4. Build Model<a id='Sec4'></a>"
   ]
  },
  {
   "cell_type": "markdown",
   "metadata": {},
   "source": [
    "### 4.1 Squash Function<a id='Sec4.1'></a>"
   ]
  },
  {
   "cell_type": "code",
   "execution_count": null,
   "metadata": {},
   "outputs": [],
   "source": [
    "def squash(vector):\n",
    "    '''Squashing function corresponding to Eq. 1\n",
    "    Args:\n",
    "        vector: A tensor with shape [batch_size, 1, num_caps, vec_len, 1] or [batch_size, num_caps, vec_len, 1].\n",
    "    Returns:\n",
    "        A tensor with the same shape as vector but squashed in 'vec_len' dimension.\n",
    "    '''\n",
    "    vec_squared_norm = reduce_sum(tf.square(vector), -2, keepdims=True)\n",
    "    scalar_factor = vec_squared_norm / (1 + vec_squared_norm) / tf.sqrt(vec_squared_norm + epsilon)\n",
    "    vec_squashed = scalar_factor * vector  # element-wise\n",
    "    return(vec_squashed)"
   ]
  },
  {
   "cell_type": "markdown",
   "metadata": {},
   "source": [
    "### 4.2 Routing Function<a id='Sec4.2'></a>"
   ]
  },
  {
   "cell_type": "code",
   "execution_count": null,
   "metadata": {},
   "outputs": [],
   "source": [
    "def routing(input_tensor, b, W, biases, num_outputs=10, num_dims=16):\n",
    "    ''' The routing algorithm.\n",
    "    Args:\n",
    "        input_tensor: A Tensor with [batch_size, num_caps_l=1152, 1, length(u_i)=8, 1]\n",
    "               shape, num_caps_l meaning the number of capsule in the layer l.\n",
    "        num_outputs: the number of output capsules.\n",
    "        num_dims: the number of dimensions for output capsule.\n",
    "    Returns:\n",
    "        A Tensor of shape [batch_size, num_caps_l_plus_1, length(v_j)=16, 1]\n",
    "        representing the vector output `v_j` in the layer l+1\n",
    "    Notes:\n",
    "        u_i represents the vector output of capsule i in the layer l, and\n",
    "        v_j the vector output of capsule j in the layer l+1.\n",
    "     '''\n",
    "\n",
    "    \n",
    "    # W: [1, num_caps_i, num_caps_j * len_v_j, len_u_j, 1]\n",
    "    input_shape = get_shape(input_tensor)\n",
    "\n",
    "    # Eq.2, calc u_hat\n",
    "    # Since tf.matmul is a time-consuming op,\n",
    "    # A better solution is using element-wise multiply, reduce_sum and reshape\n",
    "    # ops instead. Matmul [a, b] x [b, c] is equal to a series ops as\n",
    "    # element-wise multiply [a*c, b] * [a*c, b], reduce_sum at axis=1 and\n",
    "    # reshape to [a, c]\n",
    "    input_tensor = tf.tile(input_tensor, [1, 1, num_dims * num_outputs, 1, 1])\n",
    "    # assert input.get_shape() == [cfg.batch_size, 1152, 160, 8, 1]\n",
    "\n",
    "    u_hat = reduce_sum(W * input_tensor, axis=3, keepdims=True)\n",
    "    u_hat = tf.reshape(u_hat, shape=[-1, input_shape[1], num_outputs, num_dims, 1])\n",
    "    # assert u_hat.get_shape() == [cfg.batch_size, 1152, 10, 16, 1]\n",
    "\n",
    "    # In forward, u_hat_stopped = u_hat; in backward, no gradient passed back from u_hat_stopped to u_hat\n",
    "    u_hat_stopped = tf.stop_gradient(u_hat, name='stop_gradient')\n",
    "\n",
    "    # line 3,for r iterations do\n",
    "    for r_iter in range(cfg.iter_routing):\n",
    "        # line 4:\n",
    "        # => [batch_size, 1152, 10, 1, 1]\n",
    "        c_IJ = softmax(b, axis=2)\n",
    "\n",
    "        # At last iteration, use `u_hat` in order to receive gradients from the following graph\n",
    "        if r_iter == cfg.iter_routing - 1:\n",
    "            # line 5:\n",
    "            # weighting u_hat with c_IJ, element-wise in the last two dims\n",
    "            # => [batch_size, 1152, 10, 16, 1]\n",
    "            s_J = tf.multiply(c_IJ, u_hat)\n",
    "            # then sum in the second dim, resulting in [batch_size, 1, 10, 16, 1]\n",
    "            s_J = reduce_sum(s_J, axis=1, keepdims=True) + biases\n",
    "            # assert s_J.get_shape() == [cfg.batch_size, 1, num_outputs, num_dims, 1]\n",
    "\n",
    "            # line 6:\n",
    "            # squash using Eq.1,\n",
    "            v_J = squash(s_J)\n",
    "            # assert v_J.get_shape() == [cfg.batch_size, 1, 10, 16, 1]\n",
    "        elif r_iter < cfg.iter_routing - 1:  # Inner iterations, do not apply backpropagation\n",
    "            s_J = tf.multiply(c_IJ, u_hat_stopped)\n",
    "            s_J = reduce_sum(s_J, axis=1, keepdims=True) + biases\n",
    "            v_J = squash(s_J)\n",
    "\n",
    "            # line 7:\n",
    "            # reshape & tile v_j from [batch_size ,1, 10, 16, 1] to [batch_size, 1152, 10, 16, 1]\n",
    "            # then matmul in the last tow dim: [16, 1].T x [16, 1] => [1, 1], reduce mean in the\n",
    "            # batch_size dim, resulting in [1, 1152, 10, 1, 1]\n",
    "            v_J_tiled = tf.tile(v_J, [1, input_shape[1], 1, 1, 1])\n",
    "            u_produce_v = reduce_sum(u_hat_stopped * v_J_tiled, axis=3, keepdims=True)\n",
    "            # assert u_produce_v.get_shape() == [cfg.batch_size, 1152, 10, 1, 1]\n",
    "\n",
    "            # b += tf.reduce_sum(u_produce_v, axis=0, keep_dims=True)\n",
    "            b += u_produce_v\n",
    "\n",
    "    return(v_J)"
   ]
  },
  {
   "cell_type": "markdown",
   "metadata": {},
   "source": [
    "### 4.3. Primary Capsules<a id='Sec4.3'></a>"
   ]
  },
  {
   "cell_type": "code",
   "execution_count": null,
   "metadata": {},
   "outputs": [],
   "source": [
    "class PrimaryCaps(object):\n",
    "    def __init(self):\n",
    "        self.num_outputs\n",
    "        self.caps = [\n",
    "            tf.layers.Conv2D(filters = self.num_outputs, kernel_size = 9, strides = 2,\n",
    "                             padding = 'valid', activation = None, name = 'PrimaryCapsules%d'%i) for i in range(6)]\n",
    "    \n",
    "    def call(self, input_tensor): \n",
    "        # TO DO    \n",
    "        for i in range(self.vec_len):\n",
    "            # 将一般卷积的结果张量拉平，并为添加到列表中\n",
    "            caps_i = tf.reshape(self.caps[i], shape=(batch_size, -1, 1, 1))\n",
    "            capsules.append(caps_i)\n",
    "\n",
    "        # 合并为PrimaryCaps的输出张量，即6×6×32个长度为8的向量，合并后的维度为 [batch_size, 1152, 8, 1]\n",
    "        capsules = tf.concat(capsules, axis=2)\n",
    "        # 将每个Capsule 向量投入非线性函数squash进行缩放与激活\n",
    "        capsules = squash(capsules)"
   ]
  },
  {
   "cell_type": "markdown",
   "metadata": {},
   "source": [
    "### 4.4. Digit Capsules<a id='Sec4.4'></a>"
   ]
  },
  {
   "cell_type": "code",
   "execution_count": null,
   "metadata": {},
   "outputs": [],
   "source": [
    "class DigitCaps(object):\n",
    "    def __init(self):\n",
    "        self.input_shape = \n",
    "        self.num_outputs = \n",
    "        self.num_dims = \n",
    "        \n",
    "        self.W = tfe.Variable(\n",
    "            tf.random.normal(shape=[1, self.input_shape[1], self.num_dims * self.num_outputs] + self.input_shape[-2:],\n",
    "            dtype=tf.float32, stddev=0.01))\n",
    "        self.biases = tfe.Variable(\n",
    "            tf.zeros(shape=(1, 1, self.num_outputs, self.num_dims, 1),\n",
    "            dtype=tf.float32))\n",
    "    \n",
    "    def call(self, input_tensor): \n",
    "        # TO DO   \n",
    "        b = tf.constant(tf.zeros([1, self.input_shape[1], self.num_outputs, 1, 1], dtype=np.float32))\n",
    "        capsules = routing(input_tensor, self.b, self.W, self.biases)\n",
    "        #将s_j投入 squeeze 函数以得出 DigitCaps 层的输出向量\n",
    "        capsules = tf.squeeze(capsules, axis=1)\n",
    "        return capsules"
   ]
  },
  {
   "cell_type": "markdown",
   "metadata": {},
   "source": [
    "### 4.5. Build CapsNet<a id='Sec4.5'></a>"
   ]
  },
  {
   "cell_type": "code",
   "execution_count": null,
   "metadata": {},
   "outputs": [],
   "source": [
    "class CapsNet(tf.keras.Model):\n",
    "    def __init__(self):\n",
    "        super(MNISTModel, self).__init__()\n",
    "        self.device = device\n",
    "        self._input_shape = [-1, 28, 28, 1]\n",
    "        \n",
    "        # 1st layer\n",
    "        self.Conv1 = tf.layers.Conv2D(filters = 256, kernel_size = 9, strides = 1,\n",
    "                                      padding = 'valid', activation = tf.nn.relu, name = 'Conv1')\n",
    "        \n",
    "        # 2nd layer - PrimaryCaps\n",
    "        self.PrimaryCaps = PrimaryCaps()\n",
    "  \n",
    "        # 3rd layer - DigitCaps\n",
    "        self.DigitCaps = DigitCaps()\n",
    "    \n",
    "    def call(self, input_tensor):\n",
    "        input_tensor = self.Conv1(input_tensor)\n",
    "        input_tensor = self.PrimaryCaps(input_tensor)\n",
    "        input_tensor = self.DigitCaps(input_tensor)\n",
    "        return input_tensor"
   ]
  },
  {
   "cell_type": "markdown",
   "metadata": {},
   "source": [
    "### 4.6. Loss Function<a id='Sec4.6'></a>"
   ]
  },
  {
   "cell_type": "code",
   "execution_count": null,
   "metadata": {},
   "outputs": [],
   "source": [
    "def MarginLoss(v, Y, m_plus = 0.9, m_minus = 0.1, lambda_val = 0.5):\n",
    "    '''\n",
    "    Calculate the sum of separate digit margin loss for every samples\n",
    "    and average it over batched samples.\n",
    "    Input:\n",
    "        Y         - One-hot labels.\n",
    "        v         - The output tensor of the DigitCaps layer.   \n",
    "    '''    \n",
    "    batch_size = tf.shape(v)[0]\n",
    "    # [batch_size, 10, 1, 1]\n",
    "    # max_l = max(0, m_plus-||v_c||)^2\n",
    "    max_l = tf.square(tf.maximum(0., m_plus - v_length))\n",
    "    # max_r = max(0, ||v_c||-m_minus)^2\n",
    "    max_r = tf.square(tf.maximum(0., v_length - m_minus))    \n",
    "    \n",
    "    # reshape: [batch_size, 10, 1, 1] => [batch_size, 10]\n",
    "    max_l = tf.reshape(max_l, shape=(batch_size, -1))\n",
    "    max_r = tf.reshape(max_r, shape=(batch_size, -1))\n",
    "    \n",
    "    # calc T_c: [batch_size, 10]\n",
    "    T_c = Y\n",
    "    # [batch_size, 10], element-wise multiply\n",
    "    L_c = T_c * max_l + lambda_val * (1 - T_c) * max_r\n",
    "\n",
    "    return tf.reduce_mean(tf.reduce_sum(L_c, axis=1))\n",
    "\n",
    "def ReconstructionLoss(X, X_decoded):\n",
    "    '''\n",
    "    Calculate the sum of squared construction error for every samples\n",
    "    and average it over batched samples.\n",
    "    Input:\n",
    "        X         - Input tensor.\n",
    "        X_decoded - The output tensor of the reconstruction layer.    \n",
    "    '''\n",
    "    batch_size = tf.shape(X)[0]\n",
    "    orgin = tf.reshape(X, shape=(batch_size, -1))\n",
    "    squared = tf.square(X_decoded - orgin)\n",
    "    return tf.reduce_mean(tf.reduce_sum(squared, axis=1))\n",
    "    \n",
    "def loss(X, Y, v, X_decoded, regularization_scale = 0.0005):\n",
    "    '''\n",
    "    Input:\n",
    "        X         - Input tensor.\n",
    "        Y         - One-hot labels.\n",
    "        v         - The output tensor of the DigitCaps layer.\n",
    "        X_decoded - The output tensor of the reconstruction layer.\n",
    "    '''\n",
    "    return MarginLoss(v, Y) + regularization_scale * ReconstructionLoss(X, X_decoded)"
   ]
  },
  {
   "cell_type": "markdown",
   "metadata": {},
   "source": [
    "### 4.7. Accuracy Evaluator<a id='Sec4.7'></a>"
   ]
  },
  {
   "cell_type": "code",
   "execution_count": null,
   "metadata": {},
   "outputs": [],
   "source": []
  },
  {
   "cell_type": "markdown",
   "metadata": {},
   "source": [
    "### 4.8. Optimizer<a id='Sec4.8'></a>"
   ]
  },
  {
   "cell_type": "code",
   "execution_count": null,
   "metadata": {},
   "outputs": [],
   "source": []
  },
  {
   "cell_type": "markdown",
   "metadata": {},
   "source": [
    "### 4.9. Training<a id='Sec4.9'></a>"
   ]
  },
  {
   "cell_type": "code",
   "execution_count": null,
   "metadata": {},
   "outputs": [],
   "source": []
  }
 ],
 "metadata": {
  "kernelspec": {
   "display_name": "Python 3",
   "language": "python",
   "name": "python3"
  },
  "language_info": {
   "codemirror_mode": {
    "name": "ipython",
    "version": 3
   },
   "file_extension": ".py",
   "mimetype": "text/x-python",
   "name": "python",
   "nbconvert_exporter": "python",
   "pygments_lexer": "ipython3",
   "version": "3.6.6"
  }
 },
 "nbformat": 4,
 "nbformat_minor": 2
}
