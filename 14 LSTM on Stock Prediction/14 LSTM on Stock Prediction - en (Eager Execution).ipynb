{
 "cells": [
  {
   "cell_type": "markdown",
   "metadata": {},
   "source": [
    "## 1. Import Related Modules and Packages"
   ]
  },
  {
   "cell_type": "code",
   "execution_count": 1,
   "metadata": {},
   "outputs": [],
   "source": [
    "import tensorflow as tf\n",
    "tfe = tf.contrib.eager\n",
    "# Enable eager execution mode\n",
    "tf.enable_eager_execution()\n",
    "\n",
    "import numpy as np\n",
    "import matplotlib.pyplot as plt\n",
    "import os\n",
    "import requests"
   ]
  },
  {
   "cell_type": "markdown",
   "metadata": {},
   "source": [
    "## 2. Hyperparameters"
   ]
  },
  {
   "cell_type": "code",
   "execution_count": 2,
   "metadata": {},
   "outputs": [],
   "source": [
    "# A time step inputs one row of a image\n",
    "# Number of time steps = number of rows\n",
    "TIME_STEPS = 30\n",
    "# Input  size = number of columns\n",
    "INPUT_SIZE = 1\n",
    "# Size of hidden states / LSTM units\n",
    "HIDDEN_SIZE = 128\n",
    "# Output size = 1 the predicted price in the next time step\n",
    "OUTPUT_SIZE = 1\n",
    "\n",
    "# Batch size\n",
    "BATCH_SIZE = 64\n",
    "# Number of epoches\n",
    "INIT_EPOCH = 5\n",
    "NUM_EPOCH = 50\n",
    "\n",
    "# Learning rate\n",
    "LEARNING_RATE = 0.001\n",
    "LEARNING_RATE_DECAY = 0.99"
   ]
  },
  {
   "cell_type": "markdown",
   "metadata": {},
   "source": [
    "## 3. Prepare for Data"
   ]
  },
  {
   "cell_type": "markdown",
   "metadata": {},
   "source": [
    "### 3.1. Load Data"
   ]
  },
  {
   "cell_type": "code",
   "execution_count": 18,
   "metadata": {},
   "outputs": [
    {
     "name": "stdout",
     "output_type": "stream",
     "text": [
      "Downloading ... https://raw.githubusercontent.com/jaydu1/TensorFlow-Tutorial/master/14%20LSTM%20on%20Stock%20Prediction/000001.csv\n"
     ]
    }
   ],
   "source": [
    "STOCK_PRICE_PATH = '000001.csv'\n",
    "STOCK_PRICE_URL = \"https://raw.githubusercontent.com/jaydu1/TensorFlow-Tutorial/master/14%20LSTM%20on%20Stock%20Prediction/000001.csv\"\n",
    "if not os.path.exists(STOCK_PRICE_PATH):\n",
    "    r = requests.get(STOCK_PRICE_URL)\n",
    "    print(\"Downloading ...\", STOCK_PRICE_URL)\n",
    "    with open(STOCK_PRICE_PATH, 'wb') as fin:\n",
    "        fin.write(r.content)"
   ]
  }
 ],
 "metadata": {
  "kernelspec": {
   "display_name": "Python 3",
   "language": "python",
   "name": "python3"
  },
  "language_info": {
   "codemirror_mode": {
    "name": "ipython",
    "version": 3
   },
   "file_extension": ".py",
   "mimetype": "text/x-python",
   "name": "python",
   "nbconvert_exporter": "python",
   "pygments_lexer": "ipython3",
   "version": "3.6.6"
  }
 },
 "nbformat": 4,
 "nbformat_minor": 2
}
