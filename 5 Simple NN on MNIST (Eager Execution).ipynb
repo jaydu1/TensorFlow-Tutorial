{
 "cells": [
  {
   "cell_type": "code",
   "execution_count": 1,
   "metadata": {},
   "outputs": [],
   "source": [
    "import tensorflow as tf\n",
    "tfe = tf.contrib.eager\n",
    "tf.enable_eager_execution()\n",
    "\n",
    "\n",
    "import numpy as np\n",
    "import matplotlib.pyplot as plt"
   ]
  },
  {
   "cell_type": "markdown",
   "metadata": {},
   "source": [
    "# 1. 载入数据集"
   ]
  },
  {
   "cell_type": "code",
   "execution_count": 2,
   "metadata": {},
   "outputs": [
    {
     "name": "stdout",
     "output_type": "stream",
     "text": [
      "Training set:\n",
      "       Data :\t shape: (60000, 28, 28) \t type: uint8\n",
      "       Label:\t shape: (60000,) \t\t type: uint8\n",
      "Testing set :\n",
      "       Data :\t shape: (10000, 28, 28) \t type: uint8\n",
      "       Label:\t shape: (10000,) \t\t type: uint8\n"
     ]
    }
   ],
   "source": [
    "(x_train, y_train), (x_test, y_test) = tf.keras.datasets.mnist.load_data(path='mnist.npz')\n",
    "\n",
    "print('Training set:')\n",
    "print('       Data :\\t shape:', np.shape(x_train), '\\t type:', x_train.dtype)\n",
    "print('       Label:\\t shape:', np.shape(y_train), '\\t\\t type:', y_train.dtype)\n",
    "print('Testing set :')\n",
    "print('       Data :\\t shape:', np.shape(x_test), '\\t type:', x_test.dtype)\n",
    "print('       Label:\\t shape:', np.shape(y_test), '\\t\\t type:', y_test.dtype)"
   ]
  },
  {
   "cell_type": "markdown",
   "metadata": {},
   "source": [
    "# 2. 数据预处理"
   ]
  },
  {
   "cell_type": "code",
   "execution_count": 3,
   "metadata": {},
   "outputs": [
    {
     "name": "stdout",
     "output_type": "stream",
     "text": [
      "(60000, 784) (10000, 784)\n",
      "tf.Tensor(\n",
      "[[0. 0. 0. ... 0. 0. 0.]\n",
      " [1. 0. 0. ... 0. 0. 0.]\n",
      " [0. 0. 0. ... 0. 0. 0.]\n",
      " ...\n",
      " [0. 0. 0. ... 0. 0. 0.]\n",
      " [0. 0. 0. ... 0. 0. 0.]\n",
      " [0. 0. 0. ... 0. 1. 0.]], shape=(60000, 10), dtype=float32) tf.Tensor(\n",
      "[[0. 0. 0. ... 1. 0. 0.]\n",
      " [0. 0. 1. ... 0. 0. 0.]\n",
      " [0. 1. 0. ... 0. 0. 0.]\n",
      " ...\n",
      " [0. 0. 0. ... 0. 0. 0.]\n",
      " [0. 0. 0. ... 0. 0. 0.]\n",
      " [0. 0. 0. ... 0. 0. 0.]], shape=(10000, 10), dtype=float32)\n"
     ]
    }
   ],
   "source": [
    "# 转化为 float 型并归一化\n",
    "x_train = x_train.reshape(60000,-1).astype(np.float32)/255\n",
    "x_test = x_test.reshape(10000,-1).astype(np.float32)/255\n",
    "print(np.shape(x_train), np.shape(x_test))\n",
    "\n",
    "# 标签转化为 ont hot 向量\n",
    "y_train = tf.one_hot(y_train, 10, dtype=tf.float32)\n",
    "y_test = tf.one_hot(y_test, 10, dtype=tf.float32)\n",
    "print(y_train, y_test)"
   ]
  },
  {
   "cell_type": "markdown",
   "metadata": {},
   "source": [
    "# 3.设置超参数"
   ]
  },
  {
   "cell_type": "code",
   "execution_count": 4,
   "metadata": {},
   "outputs": [],
   "source": [
    "BATCH_SIZE = 100\n",
    "NUM_BATCH = len(x_train)//BATCH_SIZE\n",
    "LEARNING_RATE = 0.2"
   ]
  },
  {
   "cell_type": "markdown",
   "metadata": {},
   "source": [
    "# 4. 构建网络"
   ]
  },
  {
   "cell_type": "code",
   "execution_count": 5,
   "metadata": {},
   "outputs": [],
   "source": [
    "# 4.1 创建一个简单的神经网络\n",
    "class Model(object):\n",
    "    def __init__(self):\n",
    "        self.W = tfe.Variable(tf.zeros([784, 10]))\n",
    "        self.b = tfe.Variable(tf.zeros([10]))\n",
    "\n",
    "    def __call__(self, x):\n",
    "        return tf.nn.softmax(tf.matmul(x, self.W) + self.b)\n",
    "\n",
    "# 4.2 Loss Function\n",
    "def loss(predicted_y, desired_y):\n",
    "    return tf.reduce_mean(tf.square(predicted_y - desired_y))\n",
    "\n",
    "# 4.3 Accuracy Evaluator\n",
    "def accuracy(predicted_y_prob, desired_y):\n",
    "    correct_prediction = tf.equal(tf.argmax(desired_y,1), tf.argmax(predicted_y_prob,1))#argmax返回一维张量中最大的值所在的位置\n",
    "    return tf.reduce_mean(tf.cast(correct_prediction,tf.float32))\n",
    "\n",
    "# 4.4 Optimizer\n",
    "def train(model, inputs, outputs, learning_rate):\n",
    "    with tf.GradientTape() as t:\n",
    "        current_loss = loss(model(inputs), outputs)\n",
    "    dW, db = t.gradient(current_loss, [model.W, model.b])\n",
    "    model.W.assign_sub(learning_rate * dW)\n",
    "    model.b.assign_sub(learning_rate * db)\n",
    "    \n",
    "# 4.5 使用TensoFlow创建可用于训练的数据集\n",
    "TrainDataset = tf.data.Dataset.from_tensor_slices((x_train, y_train))\n",
    "BatchedDataset = TrainDataset.batch(BATCH_SIZE)"
   ]
  },
  {
   "cell_type": "markdown",
   "metadata": {},
   "source": [
    "# 5. 训练、评估网络"
   ]
  },
  {
   "cell_type": "code",
   "execution_count": 7,
   "metadata": {},
   "outputs": [
    {
     "name": "stdout",
     "output_type": "stream",
     "text": [
      "Iter  1 : Testing Accuracy 0.8391\n",
      "Iter  2 : Testing Accuracy 0.8737\n",
      "Iter  3 : Testing Accuracy 0.8821\n",
      "Iter  4 : Testing Accuracy 0.8899\n",
      "Iter  5 : Testing Accuracy 0.8952\n",
      "Iter  6 : Testing Accuracy 0.8980\n",
      "Iter  7 : Testing Accuracy 0.9010\n",
      "Iter  8 : Testing Accuracy 0.9032\n",
      "Iter  9 : Testing Accuracy 0.9048\n",
      "Iter 10 : Testing Accuracy 0.9053\n",
      "Iter 11 : Testing Accuracy 0.9068\n",
      "Iter 12 : Testing Accuracy 0.9078\n",
      "Iter 13 : Testing Accuracy 0.9090\n",
      "Iter 14 : Testing Accuracy 0.9098\n",
      "Iter 15 : Testing Accuracy 0.9110\n",
      "Iter 16 : Testing Accuracy 0.9118\n",
      "Iter 17 : Testing Accuracy 0.9122\n",
      "Iter 18 : Testing Accuracy 0.9127\n",
      "Iter 19 : Testing Accuracy 0.9133\n",
      "Iter 20 : Testing Accuracy 0.9153\n"
     ]
    }
   ],
   "source": [
    "model = Model()\n",
    "\n",
    "epochs = range(20)\n",
    "for epoch in epochs:\n",
    "    BatchedDataset = BatchedDataset.shuffle(buffer_size=100)\n",
    "    iterator = BatchedDataset.make_one_shot_iterator()\n",
    "    for batch in range(NUM_BATCH):\n",
    "        xs, ys = iterator.get_next()\n",
    "        Ws.append(model.W.numpy())\n",
    "        bs.append(model.b.numpy())\n",
    "        \n",
    "        train(model, xs, ys, LEARNING_RATE)\n",
    "    yhat_prob = model(x_test)\n",
    "    acc = accuracy(yhat_prob, y_test)\n",
    "    print(\"Iter %2d : Testing Accuracy %.4f\"%(epoch+1, acc.numpy()))"
   ]
  }
 ],
 "metadata": {
  "anaconda-cloud": {},
  "kernelspec": {
   "display_name": "Python 3",
   "language": "python",
   "name": "python3"
  },
  "language_info": {
   "codemirror_mode": {
    "name": "ipython",
    "version": 3
   },
   "file_extension": ".py",
   "mimetype": "text/x-python",
   "name": "python",
   "nbconvert_exporter": "python",
   "pygments_lexer": "ipython3",
   "version": "3.6.5"
  }
 },
 "nbformat": 4,
 "nbformat_minor": 1
}
