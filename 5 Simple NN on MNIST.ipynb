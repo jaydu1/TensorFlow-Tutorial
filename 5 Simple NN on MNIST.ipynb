{
 "cells": [
  {
   "cell_type": "code",
   "execution_count": 1,
   "metadata": {},
   "outputs": [],
   "source": [
    "import tensorflow as tf\n",
    "import numpy as np\n",
    "import matplotlib.pyplot as plt"
   ]
  },
  {
   "cell_type": "markdown",
   "metadata": {},
   "source": [
    "# 1. 载入数据集"
   ]
  },
  {
   "cell_type": "code",
   "execution_count": 2,
   "metadata": {},
   "outputs": [
    {
     "name": "stdout",
     "output_type": "stream",
     "text": [
      "Training set:\n",
      "       Data :\t shape: (60000, 28, 28) \t type: uint8\n",
      "       Label:\t shape: (60000,) \t\t type: uint8\n",
      "Testing set :\n",
      "       Data :\t shape: (10000, 28, 28) \t type: uint8\n",
      "       Label:\t shape: (10000,) \t\t type: uint8\n"
     ]
    }
   ],
   "source": [
    "(x_train, y_train), (x_test, y_test) = tf.keras.datasets.mnist.load_data(path='mnist.npz')\n",
    "\n",
    "print('Training set:')\n",
    "print('       Data :\\t shape:', np.shape(x_train), '\\t type:', x_train.dtype)\n",
    "print('       Label:\\t shape:', np.shape(y_train), '\\t\\t type:', y_train.dtype)\n",
    "print('Testing set :')\n",
    "print('       Data :\\t shape:', np.shape(x_test), '\\t type:', x_test.dtype)\n",
    "print('       Label:\\t shape:', np.shape(y_test), '\\t\\t type:', y_test.dtype)"
   ]
  },
  {
   "cell_type": "markdown",
   "metadata": {},
   "source": [
    "# 2. 数据预处理"
   ]
  },
  {
   "cell_type": "code",
   "execution_count": 3,
   "metadata": {},
   "outputs": [
    {
     "name": "stdout",
     "output_type": "stream",
     "text": [
      "(60000, 784) (10000, 784)\n",
      "Tensor(\"one_hot:0\", shape=(60000, 10), dtype=float32) Tensor(\"one_hot_1:0\", shape=(10000, 10), dtype=float32)\n"
     ]
    }
   ],
   "source": [
    "# 转化为 float 型并归一化\n",
    "x_train = x_train.reshape(60000,-1).astype(np.float32)/255\n",
    "x_test = x_test.reshape(10000,-1).astype(np.float32)/255\n",
    "print(np.shape(x_train), np.shape(x_test))\n",
    "\n",
    "def OneHot(y, num_class = 10):\n",
    "    new_y = tf.one_hot(indices=y, depth = num_class, dtype=tf.float32)\n",
    "    with tf.Session() as sess:\n",
    "        sess.run(new_y)\n",
    "    return new_y\n",
    "y_train = OneHot(y_train, 10)\n",
    "y_test = OneHot(y_test, 10)\n",
    "print(y_train, y_test)"
   ]
  },
  {
   "cell_type": "markdown",
   "metadata": {},
   "source": [
    "# 3.设置超参数"
   ]
  },
  {
   "cell_type": "code",
   "execution_count": 4,
   "metadata": {},
   "outputs": [],
   "source": [
    "BATCH_SIZE = 100\n",
    "NUM_BATCH = len(x_train)//BATCH_SIZE\n",
    "NUM_EPOCH = 20\n",
    "LEARNING_RATE = 0.2"
   ]
  },
  {
   "cell_type": "markdown",
   "metadata": {},
   "source": [
    "# 4. 构建网络"
   ]
  },
  {
   "cell_type": "code",
   "execution_count": 5,
   "metadata": {},
   "outputs": [],
   "source": [
    "# 4.1. 创建一个简单的神经网络\n",
    "class Model(object):\n",
    "    def __init__(self):\n",
    "        self.W = tf.Variable(tf.zeros([784, 10]))\n",
    "        self.b = tf.Variable(tf.zeros([10]))\n",
    "\n",
    "    def __call__(self, x):\n",
    "        return tf.nn.softmax(tf.matmul(x, self.W) + self.b)\n",
    "\n",
    "# 4.2 Loss Function\n",
    "def Loss(predicted_y_prob, y):\n",
    "    return tf.reduce_mean(tf.square(y - predicted_y_prob))\n",
    "\n",
    "# 4.3 Accuracy Evaluator\n",
    "def Accuracy(predicted_y_prob, desired_y):\n",
    "    correct_prediction = tf.equal(tf.argmax(desired_y,1), tf.argmax(predicted_y_prob,1))#argmax返回一维张量中最大的值所在的位置\n",
    "    return tf.reduce_mean(tf.cast(correct_prediction,tf.float32))\n",
    "\n",
    "# 4.4 使用TensoFlow创建可用于训练的数据集\n",
    "TrainDataset = tf.data.Dataset.from_tensor_slices((x_train, y_train))\n",
    "TrainDataset = TrainDataset.shuffle(buffer_size=5000)\n",
    "TrainDataset = TrainDataset.batch(100)\n",
    "TrainDataset = TrainDataset.repeat()\n",
    "train_iterator = TrainDataset.make_one_shot_iterator()\n",
    "\n",
    "TestDataset = tf.data.Dataset.from_tensor_slices((x_test, y_test))\n",
    "TestDataset = TestDataset.batch(len(x_test))\n",
    "TestDataset = TestDataset.repeat()\n",
    "test_iterator = TestDataset.make_one_shot_iterator()\n",
    "\n",
    "# 4.5 Optimizer\n",
    "model = Model()\n",
    "\n",
    "x, y = train_iterator.get_next()\n",
    "loss = Loss(model(x), y)\n",
    "#使用梯度下降法\n",
    "train_step = tf.train.GradientDescentOptimizer(LEARNING_RATE).minimize(loss)\n",
    "\n",
    "x_test, y_test = test_iterator.get_next()\n",
    "accuracy = Accuracy(model(x_test), y_test)"
   ]
  },
  {
   "cell_type": "markdown",
   "metadata": {},
   "source": [
    "# 5. 训练、评估网络"
   ]
  },
  {
   "cell_type": "code",
   "execution_count": 6,
   "metadata": {},
   "outputs": [
    {
     "name": "stdout",
     "output_type": "stream",
     "text": [
      "Iter  1 : Testing Accuracy 0.8389\n",
      "Iter  2 : Testing Accuracy 0.8724\n",
      "Iter  3 : Testing Accuracy 0.8829\n",
      "Iter  4 : Testing Accuracy 0.8898\n",
      "Iter  5 : Testing Accuracy 0.8947\n",
      "Iter  6 : Testing Accuracy 0.8975\n",
      "Iter  7 : Testing Accuracy 0.9007\n",
      "Iter  8 : Testing Accuracy 0.9024\n",
      "Iter  9 : Testing Accuracy 0.9042\n",
      "Iter 10 : Testing Accuracy 0.9054\n",
      "Iter 11 : Testing Accuracy 0.9059\n",
      "Iter 12 : Testing Accuracy 0.9079\n",
      "Iter 13 : Testing Accuracy 0.9092\n",
      "Iter 14 : Testing Accuracy 0.9103\n",
      "Iter 15 : Testing Accuracy 0.9106\n",
      "Iter 16 : Testing Accuracy 0.9105\n",
      "Iter 17 : Testing Accuracy 0.9117\n",
      "Iter 18 : Testing Accuracy 0.9130\n",
      "Iter 19 : Testing Accuracy 0.9137\n",
      "Iter 20 : Testing Accuracy 0.9146\n"
     ]
    }
   ],
   "source": [
    "#初始化变量\n",
    "init = tf.global_variables_initializer()\n",
    "with tf.Session() as sess:\n",
    "    sess.run(init)\n",
    "    for epoch in range(NUM_EPOCH):\n",
    "        for batch in range(NUM_BATCH):      \n",
    "            sess.run(train_step)\n",
    "        \n",
    "        acc = sess.run(accuracy)         \n",
    "        print(\"Iter %2d : Testing Accuracy %.4f\"%(epoch+1, acc))"
   ]
  }
 ],
 "metadata": {
  "anaconda-cloud": {},
  "kernelspec": {
   "display_name": "Python 3",
   "language": "python",
   "name": "python3"
  },
  "language_info": {
   "codemirror_mode": {
    "name": "ipython",
    "version": 3
   },
   "file_extension": ".py",
   "mimetype": "text/x-python",
   "name": "python",
   "nbconvert_exporter": "python",
   "pygments_lexer": "ipython3",
   "version": "3.6.5"
  }
 },
 "nbformat": 4,
 "nbformat_minor": 1
}
